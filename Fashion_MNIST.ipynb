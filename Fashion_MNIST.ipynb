{
  "cells": [
    {
      "cell_type": "markdown",
      "metadata": {
        "id": "Y9MYRJ7SIQJk"
      },
      "source": [
        "MSSV: 21120046.  \n",
        "Họ tên: Lê Phan Minh Đạt"
      ]
    },
    {
      "cell_type": "code",
      "execution_count": 1,
      "metadata": {
        "id": "CPBBK0q9IS9F"
      },
      "outputs": [],
      "source": [
        "import torch\n",
        "import torch.nn as nn\n",
        "import torch.optim as optim\n",
        "import torchvision\n",
        "import torchvision.transforms as transforms\n",
        "from torch.utils.data import DataLoader, TensorDataset, random_split\n",
        "from torchvision import datasets, transforms\n",
        "from sklearn.metrics import accuracy_score\n",
        "from skimage.feature import hog\n",
        "import numpy as np\n",
        "import cv2\n",
        "import time"
      ]
    },
    {
      "cell_type": "code",
      "execution_count": 2,
      "metadata": {
        "id": "5t4LANXrIZF7"
      },
      "outputs": [],
      "source": [
        "# Hàm rút trích đặc trưng HOG từ hình ảnh\n",
        "def extract_hog_features(images):\n",
        "    hog_features = []\n",
        "    hog = cv2.HOGDescriptor((28,28), (14,14), (7,7), (14,14), 9)  # Định nghĩa HOG descriptor\n",
        "    for image in images:\n",
        "        fd = hog.compute(image.numpy())  # Tính toán HOG\n",
        "        hog_features.append(fd)\n",
        "    return np.array(hog_features)"
      ]
    },
    {
      "cell_type": "code",
      "execution_count": 3,
      "metadata": {
        "id": "IEsCfgcjIcsa"
      },
      "outputs": [],
      "source": [
        "# Hàm rút trích đặc trưng Histogram từ hình ảnh\n",
        "def extract_histogram_features(images):\n",
        "    histogram_features = []\n",
        "    for image in images:\n",
        "        # Chuyển đổi hình ảnh sang định dạng dữ liệu phù hợp cho OpenCV\n",
        "        image_np = image.numpy().astype(np.uint8)\n",
        "        # Tính toán histogram\n",
        "        hist = cv2.calcHist([image_np], [0], None, [256], [0, 256])\n",
        "        # Chuẩn hóa histogram\n",
        "        hist = hist.flatten() / np.sum(hist)\n",
        "        histogram_features.append(hist)\n",
        "    return np.array(histogram_features)"
      ]
    },
    {
      "cell_type": "code",
      "execution_count": 4,
      "metadata": {
        "colab": {
          "base_uri": "https://localhost:8080/"
        },
        "id": "KgrqyD-7IfPT",
        "outputId": "94731738-0c88-4d56-aab2-1d4b8bb669eb"
      },
      "outputs": [
        {
          "name": "stdout",
          "output_type": "stream",
          "text": [
            "Downloading http://yann.lecun.com/exdb/mnist/train-images-idx3-ubyte.gz\n",
            "Failed to download (trying next):\n",
            "HTTP Error 503: Service Unavailable\n",
            "\n",
            "Downloading https://ossci-datasets.s3.amazonaws.com/mnist/train-images-idx3-ubyte.gz\n",
            "Downloading https://ossci-datasets.s3.amazonaws.com/mnist/train-images-idx3-ubyte.gz to ./data/MNIST/raw/train-images-idx3-ubyte.gz\n"
          ]
        },
        {
          "name": "stderr",
          "output_type": "stream",
          "text": [
            "100%|██████████| 9912422/9912422 [00:00<00:00, 33171404.26it/s]\n"
          ]
        },
        {
          "name": "stdout",
          "output_type": "stream",
          "text": [
            "Extracting ./data/MNIST/raw/train-images-idx3-ubyte.gz to ./data/MNIST/raw\n",
            "\n",
            "Downloading http://yann.lecun.com/exdb/mnist/train-labels-idx1-ubyte.gz\n",
            "Failed to download (trying next):\n",
            "HTTP Error 503: Service Unavailable\n",
            "\n",
            "Downloading https://ossci-datasets.s3.amazonaws.com/mnist/train-labels-idx1-ubyte.gz\n",
            "Downloading https://ossci-datasets.s3.amazonaws.com/mnist/train-labels-idx1-ubyte.gz to ./data/MNIST/raw/train-labels-idx1-ubyte.gz\n"
          ]
        },
        {
          "name": "stderr",
          "output_type": "stream",
          "text": [
            "100%|██████████| 28881/28881 [00:00<00:00, 1142121.53it/s]"
          ]
        },
        {
          "name": "stdout",
          "output_type": "stream",
          "text": [
            "Extracting ./data/MNIST/raw/train-labels-idx1-ubyte.gz to ./data/MNIST/raw\n",
            "\n",
            "Downloading http://yann.lecun.com/exdb/mnist/t10k-images-idx3-ubyte.gz\n"
          ]
        },
        {
          "name": "stderr",
          "output_type": "stream",
          "text": [
            "\n"
          ]
        },
        {
          "name": "stdout",
          "output_type": "stream",
          "text": [
            "Failed to download (trying next):\n",
            "HTTP Error 503: Service Unavailable\n",
            "\n",
            "Downloading https://ossci-datasets.s3.amazonaws.com/mnist/t10k-images-idx3-ubyte.gz\n",
            "Downloading https://ossci-datasets.s3.amazonaws.com/mnist/t10k-images-idx3-ubyte.gz to ./data/MNIST/raw/t10k-images-idx3-ubyte.gz\n"
          ]
        },
        {
          "name": "stderr",
          "output_type": "stream",
          "text": [
            "100%|██████████| 1648877/1648877 [00:00<00:00, 10679824.75it/s]\n"
          ]
        },
        {
          "name": "stdout",
          "output_type": "stream",
          "text": [
            "Extracting ./data/MNIST/raw/t10k-images-idx3-ubyte.gz to ./data/MNIST/raw\n",
            "\n",
            "Downloading http://yann.lecun.com/exdb/mnist/t10k-labels-idx1-ubyte.gz\n",
            "Failed to download (trying next):\n",
            "HTTP Error 503: Service Unavailable\n",
            "\n",
            "Downloading https://ossci-datasets.s3.amazonaws.com/mnist/t10k-labels-idx1-ubyte.gz\n",
            "Downloading https://ossci-datasets.s3.amazonaws.com/mnist/t10k-labels-idx1-ubyte.gz to ./data/MNIST/raw/t10k-labels-idx1-ubyte.gz\n"
          ]
        },
        {
          "name": "stderr",
          "output_type": "stream",
          "text": [
            "100%|██████████| 4542/4542 [00:00<00:00, 2149444.74it/s]\n"
          ]
        },
        {
          "name": "stdout",
          "output_type": "stream",
          "text": [
            "Extracting ./data/MNIST/raw/t10k-labels-idx1-ubyte.gz to ./data/MNIST/raw\n",
            "\n",
            "Downloading http://fashion-mnist.s3-website.eu-central-1.amazonaws.com/train-images-idx3-ubyte.gz\n",
            "Downloading http://fashion-mnist.s3-website.eu-central-1.amazonaws.com/train-images-idx3-ubyte.gz to ./data/FashionMNIST/raw/train-images-idx3-ubyte.gz\n"
          ]
        },
        {
          "name": "stderr",
          "output_type": "stream",
          "text": [
            "100%|██████████| 26421880/26421880 [00:01<00:00, 14759425.46it/s]\n"
          ]
        },
        {
          "name": "stdout",
          "output_type": "stream",
          "text": [
            "Extracting ./data/FashionMNIST/raw/train-images-idx3-ubyte.gz to ./data/FashionMNIST/raw\n",
            "\n",
            "Downloading http://fashion-mnist.s3-website.eu-central-1.amazonaws.com/train-labels-idx1-ubyte.gz\n",
            "Downloading http://fashion-mnist.s3-website.eu-central-1.amazonaws.com/train-labels-idx1-ubyte.gz to ./data/FashionMNIST/raw/train-labels-idx1-ubyte.gz\n"
          ]
        },
        {
          "name": "stderr",
          "output_type": "stream",
          "text": [
            "100%|██████████| 29515/29515 [00:00<00:00, 317614.16it/s]\n"
          ]
        },
        {
          "name": "stdout",
          "output_type": "stream",
          "text": [
            "Extracting ./data/FashionMNIST/raw/train-labels-idx1-ubyte.gz to ./data/FashionMNIST/raw\n",
            "\n",
            "Downloading http://fashion-mnist.s3-website.eu-central-1.amazonaws.com/t10k-images-idx3-ubyte.gz\n",
            "Downloading http://fashion-mnist.s3-website.eu-central-1.amazonaws.com/t10k-images-idx3-ubyte.gz to ./data/FashionMNIST/raw/t10k-images-idx3-ubyte.gz\n"
          ]
        },
        {
          "name": "stderr",
          "output_type": "stream",
          "text": [
            "100%|██████████| 4422102/4422102 [00:00<00:00, 5017362.85it/s]\n"
          ]
        },
        {
          "name": "stdout",
          "output_type": "stream",
          "text": [
            "Extracting ./data/FashionMNIST/raw/t10k-images-idx3-ubyte.gz to ./data/FashionMNIST/raw\n",
            "\n",
            "Downloading http://fashion-mnist.s3-website.eu-central-1.amazonaws.com/t10k-labels-idx1-ubyte.gz\n",
            "Downloading http://fashion-mnist.s3-website.eu-central-1.amazonaws.com/t10k-labels-idx1-ubyte.gz to ./data/FashionMNIST/raw/t10k-labels-idx1-ubyte.gz\n"
          ]
        },
        {
          "name": "stderr",
          "output_type": "stream",
          "text": [
            "100%|██████████| 5148/5148 [00:00<00:00, 15489438.30it/s]"
          ]
        },
        {
          "name": "stdout",
          "output_type": "stream",
          "text": [
            "Extracting ./data/FashionMNIST/raw/t10k-labels-idx1-ubyte.gz to ./data/FashionMNIST/raw\n",
            "\n"
          ]
        },
        {
          "name": "stderr",
          "output_type": "stream",
          "text": [
            "\n"
          ]
        }
      ],
      "source": [
        "# Tải dữ liệu từ MNIST và chuẩn bị DataLoader\n",
        "transform = transforms.Compose([\n",
        "    transforms.ToTensor(),\n",
        "])\n",
        "mnist_train_data = datasets.MNIST(root='./data', train=True, download=True, transform=transform)\n",
        "mnist_test_data = datasets.MNIST(root='./data', train=False, download=True, transform=transform)\n",
        "fashion_mnist_train_data = datasets.FashionMNIST(root='./data', train=True, download=True, transform=transform)\n",
        "fashion_mnist_test_data = datasets.FashionMNIST(root='./data', train=False, download=True, transform=transform)"
      ]
    },
    {
      "cell_type": "code",
      "execution_count": 5,
      "metadata": {
        "id": "PBqHD12yIhYV"
      },
      "outputs": [],
      "source": [
        "def run_model_one_hidden_size(hidden_size, train_data, test_data):\n",
        "\n",
        "  # Hyperparameters\n",
        "  input_size = 28 * 28 # Kích thước ảnh MNIST và Fashion MNIST\n",
        "  num_classes = 10 # MNIST và Fashion MNIST có 10 lớp\n",
        "  num_epochs = 5\n",
        "  batch_size = 100\n",
        "  learning_rate = 0.001\n",
        "  # Device configuration\n",
        "  device = torch.device('cuda' if torch.cuda.is_available() else 'cpu')\n",
        "\n",
        "  train_loader = DataLoader(dataset = train_data, batch_size=batch_size, shuffle=True)\n",
        "  test_loader = DataLoader(dataset = test_data, batch_size=batch_size, shuffle=False)\n",
        "\n",
        "  # Fully connected neural network with one hidden layer\n",
        "  class NeuralNet(nn.Module):\n",
        "      def __init__(self, input_size, hidden_size, num_classes):\n",
        "          super(NeuralNet, self).__init__()\n",
        "          self.fc1 = nn.Linear(input_size, hidden_size)\n",
        "          self.relu = nn.ReLU()\n",
        "          self.fc2 = nn.Linear(hidden_size, num_classes)\n",
        "\n",
        "      def forward(self, x):\n",
        "          out = self.fc1(x)\n",
        "          out = self.relu(out)\n",
        "          out = self.fc2(out)\n",
        "          return out\n",
        "\n",
        "  # Initialize the model\n",
        "  model = NeuralNet(input_size, hidden_size, num_classes).to(device)\n",
        "\n",
        "  # Loss and optimizer\n",
        "  criterion = nn.CrossEntropyLoss()\n",
        "  optimizer = torch.optim.Adam(model.parameters(), lr=learning_rate)\n",
        "\n",
        "  # Training loop\n",
        "  def train_model(loader):\n",
        "      model.train()\n",
        "      total_step = len(loader)\n",
        "      for epoch in range(num_epochs):\n",
        "          for i, (images, labels) in enumerate(loader):\n",
        "              # Move tensors to the configured device\n",
        "              images = images.reshape(-1, 28*28).to(device)\n",
        "              labels = labels.to(device)\n",
        "\n",
        "              # Forward pass\n",
        "              outputs = model(images)\n",
        "              loss = criterion(outputs, labels)\n",
        "\n",
        "              # Backward and optimize\n",
        "              optimizer.zero_grad()\n",
        "              loss.backward()\n",
        "              optimizer.step()\n",
        "\n",
        "              if (i+1) % 100 == 0:\n",
        "                  print ('Epoch [{}/{}], Step [{}/{}], Loss: {:.4f}'\n",
        "                        .format(epoch+1, num_epochs, i+1, total_step, loss.item()))\n",
        "\n",
        "  # Validation function\n",
        "  def validate_model(loader):\n",
        "      model.eval()\n",
        "      with torch.no_grad():\n",
        "          correct = 0\n",
        "          total = 0\n",
        "          for images, labels in loader:\n",
        "              images = images.reshape(-1, 28*28).to(device)\n",
        "              labels = labels.to(device)\n",
        "              outputs = model(images)\n",
        "              _, predicted = torch.max(outputs.data, 1)\n",
        "              total += labels.size(0)\n",
        "              correct += (predicted == labels).sum().item()\n",
        "\n",
        "          print('Validate Accuracy: {} %'.format(100 * correct / total))\n",
        "\n",
        "  # Test function\n",
        "  def test_model(loader):\n",
        "      model.eval()\n",
        "      with torch.no_grad():\n",
        "          correct = 0\n",
        "          total = 0\n",
        "          for images, labels in loader:\n",
        "              images = images.reshape(-1, 28*28).to(device)\n",
        "              labels = labels.to(device)\n",
        "              outputs = model(images)\n",
        "              _, predicted = torch.max(outputs.data, 1)\n",
        "              total += labels.size(0)\n",
        "              correct += (predicted == labels).sum().item()\n",
        "\n",
        "          print('Test Accuracy: {:.2f}%'.format(100 * correct / total))\n",
        "\n",
        "  start_time = time.time()\n",
        "  print(\"Training on dataset...\")\n",
        "  train_model(train_loader)\n",
        "\n",
        "  print(\"\\nTest accuracy on dataset:\")\n",
        "  test_model(test_loader)\n",
        "  end_time = time.time()\n",
        "  execution_time = end_time - start_time\n",
        "  print(\"Thời gian chạy:\", execution_time, \"giây\")"
      ]
    },
    {
      "cell_type": "code",
      "execution_count": 6,
      "metadata": {
        "id": "R43mAKzKI1TF"
      },
      "outputs": [],
      "source": [
        "def run_model_two_hidden_size(hidden_size1, hidden_size2, train_data, test_data):\n",
        "\n",
        "    # Hyperparameters\n",
        "    input_size = 28 * 28  # Kích thước ảnh MNIST và Fashion MNIST\n",
        "    num_classes = 10  # MNIST và Fashion MNIST có 10 lớp\n",
        "    num_epochs = 5\n",
        "    batch_size = 100\n",
        "    learning_rate = 0.001\n",
        "    # Device configuration\n",
        "    device = torch.device('cuda' if torch.cuda.is_available() else 'cpu')\n",
        "\n",
        "    train_loader = DataLoader(dataset=train_data, batch_size=batch_size, shuffle=True)\n",
        "    test_loader = DataLoader(dataset=test_data, batch_size=batch_size, shuffle=False)\n",
        "\n",
        "    # Fully connected neural network with two hidden layers\n",
        "    class NeuralNet(nn.Module):\n",
        "        def __init__(self, input_size, hidden_size1, hidden_size2, num_classes):\n",
        "            super(NeuralNet, self).__init__()\n",
        "            self.fc1 = nn.Linear(input_size, hidden_size1)\n",
        "            self.relu1 = nn.ReLU()\n",
        "            self.fc2 = nn.Linear(hidden_size1, hidden_size2)\n",
        "            self.relu2 = nn.ReLU()\n",
        "            self.fc3 = nn.Linear(hidden_size2, num_classes)\n",
        "\n",
        "        def forward(self, x):\n",
        "            out = self.fc1(x)\n",
        "            out = self.relu1(out)\n",
        "            out = self.fc2(out)\n",
        "            out = self.relu2(out)\n",
        "            out = self.fc3(out)\n",
        "            return out\n",
        "\n",
        "    # Initialize the model\n",
        "    model = NeuralNet(input_size, hidden_size1, hidden_size2, num_classes).to(device)\n",
        "\n",
        "    # Loss and optimizer\n",
        "    criterion = nn.CrossEntropyLoss()\n",
        "    optimizer = torch.optim.Adam(model.parameters(), lr=learning_rate)\n",
        "\n",
        "    # Training loop\n",
        "    def train_model(loader):\n",
        "        model.train()\n",
        "        total_step = len(loader)\n",
        "        for epoch in range(num_epochs):\n",
        "            for i, (images, labels) in enumerate(loader):\n",
        "                # Move tensors to the configured device\n",
        "                images = images.reshape(-1, 28 * 28).to(device)\n",
        "                labels = labels.to(device)\n",
        "\n",
        "                # Forward pass\n",
        "                outputs = model(images)\n",
        "                loss = criterion(outputs, labels)\n",
        "\n",
        "                # Backward and optimize\n",
        "                optimizer.zero_grad()\n",
        "                loss.backward()\n",
        "                optimizer.step()\n",
        "\n",
        "                if (i + 1) % 100 == 0:\n",
        "                    print('Epoch [{}/{}], Step [{}/{}], Loss: {:.4f}'\n",
        "                          .format(epoch + 1, num_epochs, i + 1, total_step, loss.item()))\n",
        "\n",
        "    # Validation function\n",
        "    def validate_model(loader):\n",
        "        model.eval()\n",
        "        with torch.no_grad():\n",
        "            correct = 0\n",
        "            total = 0\n",
        "            for images, labels in loader:\n",
        "                images = images.reshape(-1, 28 * 28).to(device)\n",
        "                labels = labels.to(device)\n",
        "                outputs = model(images)\n",
        "                _, predicted = torch.max(outputs.data, 1)\n",
        "                total += labels.size(0)\n",
        "                correct += (predicted == labels).sum().item()\n",
        "\n",
        "            print('Validate Accuracy: {} %'.format(100 * correct / total))\n",
        "\n",
        "    # Test function\n",
        "    def test_model(loader):\n",
        "        model.eval()\n",
        "        with torch.no_grad():\n",
        "            correct = 0\n",
        "            total = 0\n",
        "            for images, labels in loader:\n",
        "                images = images.reshape(-1, 28 * 28).to(device)\n",
        "                labels = labels.to(device)\n",
        "                outputs = model(images)\n",
        "                _, predicted = torch.max(outputs.data, 1)\n",
        "                total += labels.size(0)\n",
        "                correct += (predicted == labels).sum().item()\n",
        "\n",
        "            print('Test Accuracy: {:.2f}%'.format(100 * correct / total))\n",
        "\n",
        "    start_time = time.time()\n",
        "    print(\"Training on dataset...\")\n",
        "    train_model(train_loader)\n",
        "\n",
        "    print(\"\\nTest accuracy on dataset:\")\n",
        "    test_model(test_loader)\n",
        "    end_time = time.time()\n",
        "    execution_time = end_time - start_time\n",
        "    print(\"Thời gian chạy:\", execution_time, \"giây\")\n",
        "\n",
        "# Example usage:\n",
        "# run_model(hidden_size1=256, hidden_size2=128, train_data=train_dataset, test_data=test_dataset)"
      ]
    },
    {
      "cell_type": "code",
      "execution_count": 7,
      "metadata": {
        "id": "ODjvgirbI-Wb"
      },
      "outputs": [],
      "source": [
        "def run_model_feature_one_hidden_size(hidden_size, train_data, test_data, HOG):\n",
        "  if HOG:\n",
        "    # Rút trích đặc trưng HOG từ tập huấn luyện và tập kiểm tra\n",
        "    X_train_hog = extract_hog_features(train_data.data)\n",
        "    X_test_hog = extract_hog_features(test_data.data)\n",
        "  else:\n",
        "    # Rút trích đặc trưng Histogram từ tập huấn luyện và tập kiểm tra\n",
        "    X_train_hog = extract_histogram_features(train_data.data)\n",
        "    X_test_hog = extract_histogram_features(test_data.data)\n",
        "  # Chuyển đổi dữ liệu thành tensor và định dạng lại shape\n",
        "  X_train_hog = torch.FloatTensor(X_train_hog)\n",
        "  X_test_hog = torch.FloatTensor(X_test_hog)\n",
        "\n",
        "  # Chuyển đổi nhãn sang tensor\n",
        "  y_train = train_data.targets\n",
        "  y_test = test_data.targets\n",
        "\n",
        "  # Xây dựng DataLoader\n",
        "  train_dataset = TensorDataset(X_train_hog, y_train)\n",
        "  test_dataset = TensorDataset(X_test_hog, y_test)\n",
        "\n",
        "  train_loader = DataLoader(train_dataset, batch_size=100, shuffle=True)\n",
        "  test_loader = DataLoader(test_dataset, batch_size=100, shuffle=False)\n",
        "\n",
        "  # Xây dựng mô hình mạng nơ-ron\n",
        "  class NeuralNet(nn.Module):\n",
        "      def __init__(self, input_size, hidden_size, num_classes):\n",
        "          super(NeuralNet, self).__init__()\n",
        "          self.fc1 = nn.Linear(input_size, hidden_size)\n",
        "          self.relu = nn.ReLU()\n",
        "          self.fc2 = nn.Linear(hidden_size, num_classes)\n",
        "\n",
        "      def forward(self, x):\n",
        "          out = self.fc1(x)\n",
        "          out = self.relu(out)\n",
        "          out = self.fc2(out)\n",
        "          return out\n",
        "\n",
        "  # Định nghĩa các siêu tham số\n",
        "  input_size = X_train_hog.shape[1]\n",
        "  num_classes = 10\n",
        "  learning_rate = 0.001\n",
        "  num_epochs = 5\n",
        "\n",
        "  # Khởi tạo mô hình\n",
        "  device = torch.device('cuda' if torch.cuda.is_available() else 'cpu')\n",
        "  model = NeuralNet(input_size, hidden_size, num_classes)\n",
        "\n",
        "  # Hàm loss và optimizer\n",
        "  criterion = nn.CrossEntropyLoss()\n",
        "  optimizer = optim.Adam(model.parameters(), lr=learning_rate)\n",
        "\n",
        "  # Huấn luyện mô hình\n",
        "  def train_model(loader):\n",
        "        model.train()\n",
        "        total_step = len(loader)\n",
        "        for epoch in range(num_epochs):\n",
        "            for i, (images, labels) in enumerate(loader):\n",
        "                # Move tensors to the configured device\n",
        "                labels = labels.to(device)\n",
        "                # Forward pass\n",
        "                outputs = model(images)\n",
        "                loss = criterion(outputs, labels)\n",
        "\n",
        "                # Backward and optimize\n",
        "                optimizer.zero_grad()\n",
        "                loss.backward()\n",
        "                optimizer.step()\n",
        "\n",
        "                if (i+1) % 100 == 0:\n",
        "                    print ('Epoch [{}/{}], Step [{}/{}], Loss: {:.4f}'\n",
        "                          .format(epoch+1, num_epochs, i+1, total_step, loss.item()))\n",
        "  # Test function\n",
        "  def test_model(loader):\n",
        "      model.eval()\n",
        "      with torch.no_grad():\n",
        "          correct = 0\n",
        "          total = 0\n",
        "          for images, labels in loader:\n",
        "              labels = labels.to(device)\n",
        "              outputs = model(images)\n",
        "              _, predicted = torch.max(outputs.data, 1)\n",
        "              total += labels.size(0)\n",
        "              correct += (predicted == labels).sum().item()\n",
        "\n",
        "          print('Test Accuracy: {:.2f}%'.format(100 * correct / total))\n",
        "\n",
        "  start_time = time.time()\n",
        "  print(\"Training on dataset...\")\n",
        "  train_model(train_loader)\n",
        "\n",
        "  print(\"\\nTest accuracy on dataset:\")\n",
        "  test_model(test_loader)\n",
        "  end_time = time.time()\n",
        "  execution_time = end_time - start_time\n",
        "  print(\"Thời gian chạy:\", execution_time, \"giây\")"
      ]
    },
    {
      "cell_type": "code",
      "execution_count": 8,
      "metadata": {
        "id": "CkQ1c369JL39"
      },
      "outputs": [],
      "source": [
        "def run_model_feature_two_hidden_size(hidden_size1, hidden_size2, train_data, test_data, HOG):\n",
        "  if HOG:\n",
        "    # Rút trích đặc trưng HOG từ tập huấn luyện và tập kiểm tra\n",
        "    X_train_hog = extract_hog_features(train_data.data)\n",
        "    X_test_hog = extract_hog_features(test_data.data)\n",
        "  else:\n",
        "    # Rút trích đặc trưng Histogram từ tập huấn luyện và tập kiểm tra\n",
        "    X_train_hog = extract_histogram_features(train_data.data)\n",
        "    X_test_hog = extract_histogram_features(test_data.data)\n",
        "  # Chuyển đổi dữ liệu thành tensor và định dạng lại shape\n",
        "  X_train_hog = torch.FloatTensor(X_train_hog)\n",
        "  X_test_hog = torch.FloatTensor(X_test_hog)\n",
        "\n",
        "  # Chuyển đổi nhãn sang tensor\n",
        "  y_train = train_data.targets\n",
        "  y_test = test_data.targets\n",
        "\n",
        "  # Xây dựng DataLoader\n",
        "  train_dataset = TensorDataset(X_train_hog, y_train)\n",
        "  test_dataset = TensorDataset(X_test_hog, y_test)\n",
        "\n",
        "  train_loader = DataLoader(train_dataset, batch_size=100, shuffle=True)\n",
        "  test_loader = DataLoader(test_dataset, batch_size=100, shuffle=False)\n",
        "\n",
        "  # Fully connected neural network with two hidden layers\n",
        "  class NeuralNet(nn.Module):\n",
        "      def __init__(self, input_size, hidden_size1, hidden_size2, num_classes):\n",
        "          super(NeuralNet, self).__init__()\n",
        "          self.fc1 = nn.Linear(input_size, hidden_size1)\n",
        "          self.relu1 = nn.ReLU()\n",
        "          self.fc2 = nn.Linear(hidden_size1, hidden_size2)\n",
        "          self.relu2 = nn.ReLU()\n",
        "          self.fc3 = nn.Linear(hidden_size2, num_classes)\n",
        "\n",
        "      def forward(self, x):\n",
        "          out = self.fc1(x)\n",
        "          out = self.relu1(out)\n",
        "          out = self.fc2(out)\n",
        "          out = self.relu2(out)\n",
        "          out = self.fc3(out)\n",
        "          return out\n",
        "\n",
        "  input_size = X_train_hog.shape[1]\n",
        "  num_classes = 10\n",
        "  learning_rate = 0.001\n",
        "  num_epochs = 5\n",
        "\n",
        "  # Khởi tạo mô hình\n",
        "  device = torch.device('cuda' if torch.cuda.is_available() else 'cpu')\n",
        "  model = NeuralNet(input_size, hidden_size1, hidden_size2, num_classes).to(device)\n",
        "\n",
        "  # Hàm loss và optimizer\n",
        "  criterion = nn.CrossEntropyLoss()\n",
        "  optimizer = optim.Adam(model.parameters(), lr=learning_rate)\n",
        "\n",
        "  # Huấn luyện mô hình\n",
        "  def train_model(loader):\n",
        "        model.train()\n",
        "        total_step = len(loader)\n",
        "        for epoch in range(num_epochs):\n",
        "            for i, (images, labels) in enumerate(loader):\n",
        "                # Move tensors to the configured device\n",
        "                labels = labels.to(device)\n",
        "                # Forward pass\n",
        "                outputs = model(images)\n",
        "                loss = criterion(outputs, labels)\n",
        "\n",
        "                # Backward and optimize\n",
        "                optimizer.zero_grad()\n",
        "                loss.backward()\n",
        "                optimizer.step()\n",
        "\n",
        "                if (i+1) % 100 == 0:\n",
        "                    print ('Epoch [{}/{}], Step [{}/{}], Loss: {:.4f}'\n",
        "                          .format(epoch+1, num_epochs, i+1, total_step, loss.item()))\n",
        "  # Test function\n",
        "  def test_model(loader):\n",
        "      model.eval()\n",
        "      with torch.no_grad():\n",
        "          correct = 0\n",
        "          total = 0\n",
        "          for images, labels in loader:\n",
        "              labels = labels.to(device)\n",
        "              outputs = model(images)\n",
        "              _, predicted = torch.max(outputs.data, 1)\n",
        "              total += labels.size(0)\n",
        "              correct += (predicted == labels).sum().item()\n",
        "\n",
        "          print('Test Accuracy: {:.2f}%'.format(100 * correct / total))\n",
        "\n",
        "  start_time = time.time()\n",
        "  print(\"Training on dataset...\")\n",
        "  train_model(train_loader)\n",
        "\n",
        "  print(\"\\nTest accuracy on dataset:\")\n",
        "  test_model(test_loader)\n",
        "  end_time = time.time()\n",
        "  execution_time = end_time - start_time\n",
        "  print(\"Thời gian chạy:\", execution_time, \"giây\")"
      ]
    },
    {
      "cell_type": "code",
      "execution_count": null,
      "metadata": {
        "colab": {
          "base_uri": "https://localhost:8080/"
        },
        "id": "03wbW-k5H3Wv",
        "outputId": "77820f9d-cbca-450e-8926-b1dd6e4c5fd3"
      },
      "outputs": [
        {
          "name": "stdout",
          "output_type": "stream",
          "text": [
            "Training on dataset...\n",
            "Epoch [1/5], Step [100/600], Loss: 0.5044\n",
            "Epoch [1/5], Step [200/600], Loss: 0.3139\n",
            "Epoch [1/5], Step [300/600], Loss: 0.3070\n",
            "Epoch [1/5], Step [400/600], Loss: 0.2952\n",
            "Epoch [1/5], Step [500/600], Loss: 0.2600\n",
            "Epoch [1/5], Step [600/600], Loss: 0.1566\n",
            "Epoch [2/5], Step [100/600], Loss: 0.0920\n",
            "Epoch [2/5], Step [200/600], Loss: 0.1961\n",
            "Epoch [2/5], Step [300/600], Loss: 0.1135\n",
            "Epoch [2/5], Step [400/600], Loss: 0.1541\n",
            "Epoch [2/5], Step [500/600], Loss: 0.1411\n",
            "Epoch [2/5], Step [600/600], Loss: 0.1895\n",
            "Epoch [3/5], Step [100/600], Loss: 0.1393\n",
            "Epoch [3/5], Step [200/600], Loss: 0.1299\n",
            "Epoch [3/5], Step [300/600], Loss: 0.1142\n",
            "Epoch [3/5], Step [400/600], Loss: 0.2028\n",
            "Epoch [3/5], Step [500/600], Loss: 0.0687\n",
            "Epoch [3/5], Step [600/600], Loss: 0.1385\n",
            "Epoch [4/5], Step [100/600], Loss: 0.1489\n",
            "Epoch [4/5], Step [200/600], Loss: 0.0920\n",
            "Epoch [4/5], Step [300/600], Loss: 0.0634\n",
            "Epoch [4/5], Step [400/600], Loss: 0.1948\n",
            "Epoch [4/5], Step [500/600], Loss: 0.1377\n",
            "Epoch [4/5], Step [600/600], Loss: 0.1605\n",
            "Epoch [5/5], Step [100/600], Loss: 0.0917\n",
            "Epoch [5/5], Step [200/600], Loss: 0.1148\n",
            "Epoch [5/5], Step [300/600], Loss: 0.0516\n",
            "Epoch [5/5], Step [400/600], Loss: 0.0536\n",
            "Epoch [5/5], Step [500/600], Loss: 0.0582\n",
            "Epoch [5/5], Step [600/600], Loss: 0.0682\n",
            "\n",
            "Test accuracy on dataset:\n",
            "Test Accuracy: 97.09%\n",
            "Thời gian chạy: 54.11018943786621 giây\n"
          ]
        }
      ],
      "source": [
        "run = run_model_one_hidden_size(100, mnist_train_data, mnist_test_data)"
      ]
    },
    {
      "cell_type": "code",
      "execution_count": null,
      "metadata": {
        "colab": {
          "base_uri": "https://localhost:8080/"
        },
        "id": "Bfv4jxeqRqLO",
        "outputId": "0276b4c4-3983-47ea-9305-097ecfaeb204"
      },
      "outputs": [
        {
          "name": "stdout",
          "output_type": "stream",
          "text": [
            "Training on dataset...\n",
            "Epoch [1/5], Step [100/600], Loss: 0.3604\n",
            "Epoch [1/5], Step [200/600], Loss: 0.2134\n",
            "Epoch [1/5], Step [300/600], Loss: 0.3435\n",
            "Epoch [1/5], Step [400/600], Loss: 0.1137\n",
            "Epoch [1/5], Step [500/600], Loss: 0.1384\n",
            "Epoch [1/5], Step [600/600], Loss: 0.2065\n",
            "Epoch [2/5], Step [100/600], Loss: 0.1184\n",
            "Epoch [2/5], Step [200/600], Loss: 0.0688\n",
            "Epoch [2/5], Step [300/600], Loss: 0.1364\n",
            "Epoch [2/5], Step [400/600], Loss: 0.1044\n",
            "Epoch [2/5], Step [500/600], Loss: 0.1133\n",
            "Epoch [2/5], Step [600/600], Loss: 0.1428\n",
            "Epoch [3/5], Step [100/600], Loss: 0.1154\n",
            "Epoch [3/5], Step [200/600], Loss: 0.0579\n",
            "Epoch [3/5], Step [300/600], Loss: 0.0348\n",
            "Epoch [3/5], Step [400/600], Loss: 0.0448\n",
            "Epoch [3/5], Step [500/600], Loss: 0.0373\n",
            "Epoch [3/5], Step [600/600], Loss: 0.1426\n",
            "Epoch [4/5], Step [100/600], Loss: 0.1511\n",
            "Epoch [4/5], Step [200/600], Loss: 0.0401\n",
            "Epoch [4/5], Step [300/600], Loss: 0.1486\n",
            "Epoch [4/5], Step [400/600], Loss: 0.0461\n",
            "Epoch [4/5], Step [500/600], Loss: 0.0600\n",
            "Epoch [4/5], Step [600/600], Loss: 0.0257\n",
            "Epoch [5/5], Step [100/600], Loss: 0.0233\n",
            "Epoch [5/5], Step [200/600], Loss: 0.0617\n",
            "Epoch [5/5], Step [300/600], Loss: 0.0679\n",
            "Epoch [5/5], Step [400/600], Loss: 0.0402\n",
            "Epoch [5/5], Step [500/600], Loss: 0.0179\n",
            "Epoch [5/5], Step [600/600], Loss: 0.0339\n",
            "\n",
            "Test accuracy on dataset:\n",
            "Test Accuracy: 97.91%\n",
            "Thời gian chạy: 71.060626745224 giây\n"
          ]
        }
      ],
      "source": [
        "run = run_model_one_hidden_size(500, mnist_train_data, mnist_test_data)"
      ]
    },
    {
      "cell_type": "code",
      "execution_count": null,
      "metadata": {
        "colab": {
          "base_uri": "https://localhost:8080/"
        },
        "id": "zbZzGkH1RrmD",
        "outputId": "ed22cd42-0754-49db-dfd8-b4ae3a2a3374"
      },
      "outputs": [
        {
          "name": "stdout",
          "output_type": "stream",
          "text": [
            "Training on dataset...\n",
            "Epoch [1/5], Step [100/600], Loss: 0.3377\n",
            "Epoch [1/5], Step [200/600], Loss: 0.1901\n",
            "Epoch [1/5], Step [300/600], Loss: 0.1692\n",
            "Epoch [1/5], Step [400/600], Loss: 0.1589\n",
            "Epoch [1/5], Step [500/600], Loss: 0.1794\n",
            "Epoch [1/5], Step [600/600], Loss: 0.1748\n",
            "Epoch [2/5], Step [100/600], Loss: 0.1056\n",
            "Epoch [2/5], Step [200/600], Loss: 0.0429\n",
            "Epoch [2/5], Step [300/600], Loss: 0.1356\n",
            "Epoch [2/5], Step [400/600], Loss: 0.0998\n",
            "Epoch [2/5], Step [500/600], Loss: 0.1664\n",
            "Epoch [2/5], Step [600/600], Loss: 0.0801\n",
            "Epoch [3/5], Step [100/600], Loss: 0.0699\n",
            "Epoch [3/5], Step [200/600], Loss: 0.0353\n",
            "Epoch [3/5], Step [300/600], Loss: 0.0351\n",
            "Epoch [3/5], Step [400/600], Loss: 0.1032\n",
            "Epoch [3/5], Step [500/600], Loss: 0.1364\n",
            "Epoch [3/5], Step [600/600], Loss: 0.0430\n",
            "Epoch [4/5], Step [100/600], Loss: 0.0894\n",
            "Epoch [4/5], Step [200/600], Loss: 0.0176\n",
            "Epoch [4/5], Step [300/600], Loss: 0.0286\n",
            "Epoch [4/5], Step [400/600], Loss: 0.0248\n",
            "Epoch [4/5], Step [500/600], Loss: 0.0114\n",
            "Epoch [4/5], Step [600/600], Loss: 0.0401\n",
            "Epoch [5/5], Step [100/600], Loss: 0.0321\n",
            "Epoch [5/5], Step [200/600], Loss: 0.0847\n",
            "Epoch [5/5], Step [300/600], Loss: 0.0682\n",
            "Epoch [5/5], Step [400/600], Loss: 0.0264\n",
            "Epoch [5/5], Step [500/600], Loss: 0.0198\n",
            "Epoch [5/5], Step [600/600], Loss: 0.0359\n",
            "\n",
            "Test accuracy on dataset:\n",
            "Test Accuracy: 98.00%\n",
            "Thời gian chạy: 90.02703332901001 giây\n"
          ]
        }
      ],
      "source": [
        "run = run_model_one_hidden_size(700, mnist_train_data, mnist_test_data)"
      ]
    },
    {
      "cell_type": "code",
      "execution_count": null,
      "metadata": {
        "colab": {
          "base_uri": "https://localhost:8080/"
        },
        "id": "EtxwBjgxR2C4",
        "outputId": "9ff14939-22d6-4c2b-d9e5-d6444d22cd91"
      },
      "outputs": [
        {
          "name": "stdout",
          "output_type": "stream",
          "text": [
            "Training on dataset...\n",
            "Epoch [1/5], Step [100/600], Loss: 1.1900\n",
            "Epoch [1/5], Step [200/600], Loss: 0.5812\n",
            "Epoch [1/5], Step [300/600], Loss: 0.3499\n",
            "Epoch [1/5], Step [400/600], Loss: 0.3866\n",
            "Epoch [1/5], Step [500/600], Loss: 0.2548\n",
            "Epoch [1/5], Step [600/600], Loss: 0.2363\n",
            "Epoch [2/5], Step [100/600], Loss: 0.1409\n",
            "Epoch [2/5], Step [200/600], Loss: 0.1297\n",
            "Epoch [2/5], Step [300/600], Loss: 0.2539\n",
            "Epoch [2/5], Step [400/600], Loss: 0.2011\n",
            "Epoch [2/5], Step [500/600], Loss: 0.1554\n",
            "Epoch [2/5], Step [600/600], Loss: 0.2130\n",
            "Epoch [3/5], Step [100/600], Loss: 0.2614\n",
            "Epoch [3/5], Step [200/600], Loss: 0.1272\n",
            "Epoch [3/5], Step [300/600], Loss: 0.1762\n",
            "Epoch [3/5], Step [400/600], Loss: 0.2397\n",
            "Epoch [3/5], Step [500/600], Loss: 0.1462\n",
            "Epoch [3/5], Step [600/600], Loss: 0.1050\n",
            "Epoch [4/5], Step [100/600], Loss: 0.1482\n",
            "Epoch [4/5], Step [200/600], Loss: 0.1461\n",
            "Epoch [4/5], Step [300/600], Loss: 0.0635\n",
            "Epoch [4/5], Step [400/600], Loss: 0.1814\n",
            "Epoch [4/5], Step [500/600], Loss: 0.1561\n",
            "Epoch [4/5], Step [600/600], Loss: 0.0593\n",
            "Epoch [5/5], Step [100/600], Loss: 0.2017\n",
            "Epoch [5/5], Step [200/600], Loss: 0.0847\n",
            "Epoch [5/5], Step [300/600], Loss: 0.1577\n",
            "Epoch [5/5], Step [400/600], Loss: 0.1064\n",
            "Epoch [5/5], Step [500/600], Loss: 0.1205\n",
            "Epoch [5/5], Step [600/600], Loss: 0.0693\n",
            "\n",
            "Test accuracy on dataset:\n",
            "Test Accuracy: 96.59%\n",
            "Thời gian chạy: 7.156085729598999 giây\n"
          ]
        }
      ],
      "source": [
        "run = run_model_feature_one_hidden_size(100, mnist_train_data, mnist_test_data, True)"
      ]
    },
    {
      "cell_type": "code",
      "execution_count": null,
      "metadata": {
        "colab": {
          "base_uri": "https://localhost:8080/"
        },
        "id": "hVoTFghXSFuV",
        "outputId": "5ff8d720-4189-4810-ad72-f1679045d130"
      },
      "outputs": [
        {
          "name": "stdout",
          "output_type": "stream",
          "text": [
            "Training on dataset...\n",
            "Epoch [1/5], Step [100/600], Loss: 0.5671\n",
            "Epoch [1/5], Step [200/600], Loss: 0.2607\n",
            "Epoch [1/5], Step [300/600], Loss: 0.3369\n",
            "Epoch [1/5], Step [400/600], Loss: 0.2431\n",
            "Epoch [1/5], Step [500/600], Loss: 0.1895\n",
            "Epoch [1/5], Step [600/600], Loss: 0.0972\n",
            "Epoch [2/5], Step [100/600], Loss: 0.1733\n",
            "Epoch [2/5], Step [200/600], Loss: 0.1199\n",
            "Epoch [2/5], Step [300/600], Loss: 0.1477\n",
            "Epoch [2/5], Step [400/600], Loss: 0.1821\n",
            "Epoch [2/5], Step [500/600], Loss: 0.1136\n",
            "Epoch [2/5], Step [600/600], Loss: 0.0826\n",
            "Epoch [3/5], Step [100/600], Loss: 0.1181\n",
            "Epoch [3/5], Step [200/600], Loss: 0.0640\n",
            "Epoch [3/5], Step [300/600], Loss: 0.1672\n",
            "Epoch [3/5], Step [400/600], Loss: 0.1534\n",
            "Epoch [3/5], Step [500/600], Loss: 0.0498\n",
            "Epoch [3/5], Step [600/600], Loss: 0.1050\n",
            "Epoch [4/5], Step [100/600], Loss: 0.0978\n",
            "Epoch [4/5], Step [200/600], Loss: 0.0559\n",
            "Epoch [4/5], Step [300/600], Loss: 0.0859\n",
            "Epoch [4/5], Step [400/600], Loss: 0.0538\n",
            "Epoch [4/5], Step [500/600], Loss: 0.0931\n",
            "Epoch [4/5], Step [600/600], Loss: 0.0968\n",
            "Epoch [5/5], Step [100/600], Loss: 0.0534\n",
            "Epoch [5/5], Step [200/600], Loss: 0.0597\n",
            "Epoch [5/5], Step [300/600], Loss: 0.1276\n",
            "Epoch [5/5], Step [400/600], Loss: 0.1284\n",
            "Epoch [5/5], Step [500/600], Loss: 0.0875\n",
            "Epoch [5/5], Step [600/600], Loss: 0.0914\n",
            "\n",
            "Test accuracy on dataset:\n",
            "Test Accuracy: 97.08%\n",
            "Thời gian chạy: 14.399743795394897 giây\n"
          ]
        }
      ],
      "source": [
        "run = run_model_feature_one_hidden_size(500, mnist_train_data, mnist_test_data, True)"
      ]
    },
    {
      "cell_type": "code",
      "execution_count": null,
      "metadata": {
        "colab": {
          "base_uri": "https://localhost:8080/"
        },
        "id": "74OeHjOaTECi",
        "outputId": "5547894a-2045-45f4-b2c8-3f937256e90a"
      },
      "outputs": [
        {
          "name": "stdout",
          "output_type": "stream",
          "text": [
            "Training on dataset...\n",
            "Epoch [1/5], Step [100/600], Loss: 0.4439\n",
            "Epoch [1/5], Step [200/600], Loss: 0.2830\n",
            "Epoch [1/5], Step [300/600], Loss: 0.3041\n",
            "Epoch [1/5], Step [400/600], Loss: 0.2149\n",
            "Epoch [1/5], Step [500/600], Loss: 0.1429\n",
            "Epoch [1/5], Step [600/600], Loss: 0.0735\n",
            "Epoch [2/5], Step [100/600], Loss: 0.2296\n",
            "Epoch [2/5], Step [200/600], Loss: 0.1346\n",
            "Epoch [2/5], Step [300/600], Loss: 0.1751\n",
            "Epoch [2/5], Step [400/600], Loss: 0.1725\n",
            "Epoch [2/5], Step [500/600], Loss: 0.1969\n",
            "Epoch [2/5], Step [600/600], Loss: 0.0806\n",
            "Epoch [3/5], Step [100/600], Loss: 0.0737\n",
            "Epoch [3/5], Step [200/600], Loss: 0.1041\n",
            "Epoch [3/5], Step [300/600], Loss: 0.2195\n",
            "Epoch [3/5], Step [400/600], Loss: 0.1438\n",
            "Epoch [3/5], Step [500/600], Loss: 0.0912\n",
            "Epoch [3/5], Step [600/600], Loss: 0.0646\n",
            "Epoch [4/5], Step [100/600], Loss: 0.1756\n",
            "Epoch [4/5], Step [200/600], Loss: 0.0907\n",
            "Epoch [4/5], Step [300/600], Loss: 0.0640\n",
            "Epoch [4/5], Step [400/600], Loss: 0.1619\n",
            "Epoch [4/5], Step [500/600], Loss: 0.1166\n",
            "Epoch [4/5], Step [600/600], Loss: 0.2607\n",
            "Epoch [5/5], Step [100/600], Loss: 0.1056\n",
            "Epoch [5/5], Step [200/600], Loss: 0.1015\n",
            "Epoch [5/5], Step [300/600], Loss: 0.1167\n",
            "Epoch [5/5], Step [400/600], Loss: 0.1153\n",
            "Epoch [5/5], Step [500/600], Loss: 0.0539\n",
            "Epoch [5/5], Step [600/600], Loss: 0.1188\n",
            "\n",
            "Test accuracy on dataset:\n",
            "Test Accuracy: 97.11%\n",
            "Thời gian chạy: 11.987780809402466 giây\n"
          ]
        }
      ],
      "source": [
        "run = run_model_feature_one_hidden_size(700, mnist_train_data, mnist_test_data, True)"
      ]
    },
    {
      "cell_type": "code",
      "execution_count": null,
      "metadata": {
        "colab": {
          "base_uri": "https://localhost:8080/"
        },
        "id": "uZd4sxU9THPS",
        "outputId": "4ba06be8-ca25-432e-da14-0b3f213f6f61"
      },
      "outputs": [
        {
          "name": "stdout",
          "output_type": "stream",
          "text": [
            "Training on dataset...\n",
            "Epoch [1/5], Step [100/600], Loss: 0.3250\n",
            "Epoch [1/5], Step [200/600], Loss: 0.3076\n",
            "Epoch [1/5], Step [300/600], Loss: 0.3537\n",
            "Epoch [1/5], Step [400/600], Loss: 0.2255\n",
            "Epoch [1/5], Step [500/600], Loss: 0.1904\n",
            "Epoch [1/5], Step [600/600], Loss: 0.2738\n",
            "Epoch [2/5], Step [100/600], Loss: 0.1784\n",
            "Epoch [2/5], Step [200/600], Loss: 0.0472\n",
            "Epoch [2/5], Step [300/600], Loss: 0.1288\n",
            "Epoch [2/5], Step [400/600], Loss: 0.1335\n",
            "Epoch [2/5], Step [500/600], Loss: 0.1468\n",
            "Epoch [2/5], Step [600/600], Loss: 0.1152\n",
            "Epoch [3/5], Step [100/600], Loss: 0.1078\n",
            "Epoch [3/5], Step [200/600], Loss: 0.0578\n",
            "Epoch [3/5], Step [300/600], Loss: 0.1154\n",
            "Epoch [3/5], Step [400/600], Loss: 0.0943\n",
            "Epoch [3/5], Step [500/600], Loss: 0.1170\n",
            "Epoch [3/5], Step [600/600], Loss: 0.1402\n",
            "Epoch [4/5], Step [100/600], Loss: 0.1145\n",
            "Epoch [4/5], Step [200/600], Loss: 0.1375\n",
            "Epoch [4/5], Step [300/600], Loss: 0.0278\n",
            "Epoch [4/5], Step [400/600], Loss: 0.1016\n",
            "Epoch [4/5], Step [500/600], Loss: 0.0964\n",
            "Epoch [4/5], Step [600/600], Loss: 0.0843\n",
            "Epoch [5/5], Step [100/600], Loss: 0.0677\n",
            "Epoch [5/5], Step [200/600], Loss: 0.0398\n",
            "Epoch [5/5], Step [300/600], Loss: 0.0354\n",
            "Epoch [5/5], Step [400/600], Loss: 0.0334\n",
            "Epoch [5/5], Step [500/600], Loss: 0.0426\n",
            "Epoch [5/5], Step [600/600], Loss: 0.1325\n",
            "\n",
            "Test accuracy on dataset:\n",
            "Test Accuracy: 96.48%\n",
            "Thời gian chạy: 55.79448461532593 giây\n"
          ]
        }
      ],
      "source": [
        "run = run_model_two_hidden_size(100, 100, mnist_train_data, mnist_test_data)"
      ]
    },
    {
      "cell_type": "code",
      "execution_count": null,
      "metadata": {
        "colab": {
          "base_uri": "https://localhost:8080/"
        },
        "id": "Atutsb0kTzZ2",
        "outputId": "b4304e85-45b2-4d2b-a89b-02502e1ea4e6"
      },
      "outputs": [
        {
          "name": "stdout",
          "output_type": "stream",
          "text": [
            "Training on dataset...\n",
            "Epoch [1/5], Step [100/600], Loss: 0.3528\n",
            "Epoch [1/5], Step [200/600], Loss: 0.2375\n",
            "Epoch [1/5], Step [300/600], Loss: 0.2711\n",
            "Epoch [1/5], Step [400/600], Loss: 0.1849\n",
            "Epoch [1/5], Step [500/600], Loss: 0.3221\n",
            "Epoch [1/5], Step [600/600], Loss: 0.1103\n",
            "Epoch [2/5], Step [100/600], Loss: 0.1588\n",
            "Epoch [2/5], Step [200/600], Loss: 0.0539\n",
            "Epoch [2/5], Step [300/600], Loss: 0.1563\n",
            "Epoch [2/5], Step [400/600], Loss: 0.0911\n",
            "Epoch [2/5], Step [500/600], Loss: 0.0500\n",
            "Epoch [2/5], Step [600/600], Loss: 0.1741\n",
            "Epoch [3/5], Step [100/600], Loss: 0.1701\n",
            "Epoch [3/5], Step [200/600], Loss: 0.0457\n",
            "Epoch [3/5], Step [300/600], Loss: 0.1279\n",
            "Epoch [3/5], Step [400/600], Loss: 0.0628\n",
            "Epoch [3/5], Step [500/600], Loss: 0.0552\n",
            "Epoch [3/5], Step [600/600], Loss: 0.0384\n",
            "Epoch [4/5], Step [100/600], Loss: 0.0238\n",
            "Epoch [4/5], Step [200/600], Loss: 0.0697\n",
            "Epoch [4/5], Step [300/600], Loss: 0.0496\n",
            "Epoch [4/5], Step [400/600], Loss: 0.0971\n",
            "Epoch [4/5], Step [500/600], Loss: 0.0668\n",
            "Epoch [4/5], Step [600/600], Loss: 0.1146\n",
            "Epoch [5/5], Step [100/600], Loss: 0.1065\n",
            "Epoch [5/5], Step [200/600], Loss: 0.0218\n",
            "Epoch [5/5], Step [300/600], Loss: 0.0310\n",
            "Epoch [5/5], Step [400/600], Loss: 0.1112\n",
            "Epoch [5/5], Step [500/600], Loss: 0.0286\n",
            "Epoch [5/5], Step [600/600], Loss: 0.0326\n",
            "\n",
            "Test accuracy on dataset:\n",
            "Test Accuracy: 97.80%\n",
            "Thời gian chạy: 56.133511543273926 giây\n"
          ]
        }
      ],
      "source": [
        "run = run_model_two_hidden_size(100, 500, mnist_train_data, mnist_test_data)"
      ]
    },
    {
      "cell_type": "code",
      "execution_count": null,
      "metadata": {
        "colab": {
          "base_uri": "https://localhost:8080/"
        },
        "id": "ZPkhDP2gT1sR",
        "outputId": "5e37561c-431a-48f4-f3db-41c019d02950"
      },
      "outputs": [
        {
          "name": "stdout",
          "output_type": "stream",
          "text": [
            "Training on dataset...\n",
            "Epoch [1/5], Step [100/600], Loss: 0.2040\n",
            "Epoch [1/5], Step [200/600], Loss: 0.2547\n",
            "Epoch [1/5], Step [300/600], Loss: 0.2132\n",
            "Epoch [1/5], Step [400/600], Loss: 0.1632\n",
            "Epoch [1/5], Step [500/600], Loss: 0.2277\n",
            "Epoch [1/5], Step [600/600], Loss: 0.1443\n",
            "Epoch [2/5], Step [100/600], Loss: 0.1203\n",
            "Epoch [2/5], Step [200/600], Loss: 0.0617\n",
            "Epoch [2/5], Step [300/600], Loss: 0.1992\n",
            "Epoch [2/5], Step [400/600], Loss: 0.2500\n",
            "Epoch [2/5], Step [500/600], Loss: 0.0394\n",
            "Epoch [2/5], Step [600/600], Loss: 0.0624\n",
            "Epoch [3/5], Step [100/600], Loss: 0.0571\n",
            "Epoch [3/5], Step [200/600], Loss: 0.0326\n",
            "Epoch [3/5], Step [300/600], Loss: 0.1724\n",
            "Epoch [3/5], Step [400/600], Loss: 0.0870\n",
            "Epoch [3/5], Step [500/600], Loss: 0.1254\n",
            "Epoch [3/5], Step [600/600], Loss: 0.0268\n",
            "Epoch [4/5], Step [100/600], Loss: 0.0366\n",
            "Epoch [4/5], Step [200/600], Loss: 0.0099\n",
            "Epoch [4/5], Step [300/600], Loss: 0.1599\n",
            "Epoch [4/5], Step [400/600], Loss: 0.0489\n",
            "Epoch [4/5], Step [500/600], Loss: 0.0141\n",
            "Epoch [4/5], Step [600/600], Loss: 0.1053\n",
            "Epoch [5/5], Step [100/600], Loss: 0.0559\n",
            "Epoch [5/5], Step [200/600], Loss: 0.0157\n",
            "Epoch [5/5], Step [300/600], Loss: 0.0582\n",
            "Epoch [5/5], Step [400/600], Loss: 0.0846\n",
            "Epoch [5/5], Step [500/600], Loss: 0.0163\n",
            "Epoch [5/5], Step [600/600], Loss: 0.0650\n",
            "\n",
            "Test accuracy on dataset:\n",
            "Test Accuracy: 97.22%\n",
            "Thời gian chạy: 58.805062770843506 giây\n"
          ]
        }
      ],
      "source": [
        "run = run_model_two_hidden_size(100, 700, mnist_train_data, mnist_test_data)"
      ]
    },
    {
      "cell_type": "code",
      "execution_count": null,
      "metadata": {
        "colab": {
          "base_uri": "https://localhost:8080/"
        },
        "id": "gwawKQLXT3Ls",
        "outputId": "fb9b487c-ded2-4875-9daa-69a593d8beee"
      },
      "outputs": [
        {
          "name": "stdout",
          "output_type": "stream",
          "text": [
            "Training on dataset...\n",
            "Epoch [1/5], Step [100/600], Loss: 0.4171\n",
            "Epoch [1/5], Step [200/600], Loss: 0.3544\n",
            "Epoch [1/5], Step [300/600], Loss: 0.1900\n",
            "Epoch [1/5], Step [400/600], Loss: 0.1627\n",
            "Epoch [1/5], Step [500/600], Loss: 0.2191\n",
            "Epoch [1/5], Step [600/600], Loss: 0.2387\n",
            "Epoch [2/5], Step [100/600], Loss: 0.1100\n",
            "Epoch [2/5], Step [200/600], Loss: 0.1102\n",
            "Epoch [2/5], Step [300/600], Loss: 0.0602\n",
            "Epoch [2/5], Step [400/600], Loss: 0.1090\n",
            "Epoch [2/5], Step [500/600], Loss: 0.0847\n",
            "Epoch [2/5], Step [600/600], Loss: 0.1119\n",
            "Epoch [3/5], Step [100/600], Loss: 0.0824\n",
            "Epoch [3/5], Step [200/600], Loss: 0.0419\n",
            "Epoch [3/5], Step [300/600], Loss: 0.0349\n",
            "Epoch [3/5], Step [400/600], Loss: 0.0357\n",
            "Epoch [3/5], Step [500/600], Loss: 0.0847\n",
            "Epoch [3/5], Step [600/600], Loss: 0.0381\n",
            "Epoch [4/5], Step [100/600], Loss: 0.0325\n",
            "Epoch [4/5], Step [200/600], Loss: 0.0473\n",
            "Epoch [4/5], Step [300/600], Loss: 0.0588\n",
            "Epoch [4/5], Step [400/600], Loss: 0.0711\n",
            "Epoch [4/5], Step [500/600], Loss: 0.0179\n",
            "Epoch [4/5], Step [600/600], Loss: 0.0587\n",
            "Epoch [5/5], Step [100/600], Loss: 0.0350\n",
            "Epoch [5/5], Step [200/600], Loss: 0.0218\n",
            "Epoch [5/5], Step [300/600], Loss: 0.0342\n",
            "Epoch [5/5], Step [400/600], Loss: 0.0163\n",
            "Epoch [5/5], Step [500/600], Loss: 0.0398\n",
            "Epoch [5/5], Step [600/600], Loss: 0.0058\n",
            "\n",
            "Test accuracy on dataset:\n",
            "Test Accuracy: 97.97%\n",
            "Thời gian chạy: 83.38557147979736 giây\n"
          ]
        }
      ],
      "source": [
        "run = run_model_two_hidden_size(500, 100, mnist_train_data, mnist_test_data)"
      ]
    },
    {
      "cell_type": "code",
      "execution_count": null,
      "metadata": {
        "colab": {
          "base_uri": "https://localhost:8080/"
        },
        "id": "sfpKPkQeUn__",
        "outputId": "ccc868bf-e5ce-45cf-cc41-358f788db359"
      },
      "outputs": [
        {
          "name": "stdout",
          "output_type": "stream",
          "text": [
            "Training on dataset...\n",
            "Epoch [1/5], Step [100/600], Loss: 0.3031\n",
            "Epoch [1/5], Step [200/600], Loss: 0.2185\n",
            "Epoch [1/5], Step [300/600], Loss: 0.1564\n",
            "Epoch [1/5], Step [400/600], Loss: 0.1297\n",
            "Epoch [1/5], Step [500/600], Loss: 0.2996\n",
            "Epoch [1/5], Step [600/600], Loss: 0.1031\n",
            "Epoch [2/5], Step [100/600], Loss: 0.1160\n",
            "Epoch [2/5], Step [200/600], Loss: 0.0940\n",
            "Epoch [2/5], Step [300/600], Loss: 0.0423\n",
            "Epoch [2/5], Step [400/600], Loss: 0.0210\n",
            "Epoch [2/5], Step [500/600], Loss: 0.0727\n",
            "Epoch [2/5], Step [600/600], Loss: 0.0340\n",
            "Epoch [3/5], Step [100/600], Loss: 0.0735\n",
            "Epoch [3/5], Step [200/600], Loss: 0.2083\n",
            "Epoch [3/5], Step [300/600], Loss: 0.0185\n",
            "Epoch [3/5], Step [400/600], Loss: 0.0636\n",
            "Epoch [3/5], Step [500/600], Loss: 0.0482\n",
            "Epoch [3/5], Step [600/600], Loss: 0.0267\n",
            "Epoch [4/5], Step [100/600], Loss: 0.0291\n",
            "Epoch [4/5], Step [200/600], Loss: 0.0119\n",
            "Epoch [4/5], Step [300/600], Loss: 0.0045\n",
            "Epoch [4/5], Step [400/600], Loss: 0.0608\n",
            "Epoch [4/5], Step [500/600], Loss: 0.0044\n",
            "Epoch [4/5], Step [600/600], Loss: 0.0268\n",
            "Epoch [5/5], Step [100/600], Loss: 0.0156\n",
            "Epoch [5/5], Step [200/600], Loss: 0.0014\n",
            "Epoch [5/5], Step [300/600], Loss: 0.0552\n",
            "Epoch [5/5], Step [400/600], Loss: 0.0024\n",
            "Epoch [5/5], Step [500/600], Loss: 0.0031\n",
            "Epoch [5/5], Step [600/600], Loss: 0.0294\n",
            "\n",
            "Test accuracy on dataset:\n",
            "Test Accuracy: 97.94%\n",
            "Thời gian chạy: 100.34501481056213 giây\n"
          ]
        }
      ],
      "source": [
        "run = run_model_two_hidden_size(500, 500, mnist_train_data, mnist_test_data)"
      ]
    },
    {
      "cell_type": "code",
      "execution_count": null,
      "metadata": {
        "colab": {
          "base_uri": "https://localhost:8080/"
        },
        "id": "tVa5dC1ZUtQO",
        "outputId": "fbdac91a-8f97-49e7-d8ab-d50a3b04aa68"
      },
      "outputs": [
        {
          "name": "stdout",
          "output_type": "stream",
          "text": [
            "Training on dataset...\n",
            "Epoch [1/5], Step [100/600], Loss: 0.2982\n",
            "Epoch [1/5], Step [200/600], Loss: 0.2347\n",
            "Epoch [1/5], Step [300/600], Loss: 0.1210\n",
            "Epoch [1/5], Step [400/600], Loss: 0.1802\n",
            "Epoch [1/5], Step [500/600], Loss: 0.0843\n",
            "Epoch [1/5], Step [600/600], Loss: 0.1280\n",
            "Epoch [2/5], Step [100/600], Loss: 0.1627\n",
            "Epoch [2/5], Step [200/600], Loss: 0.0353\n",
            "Epoch [2/5], Step [300/600], Loss: 0.0808\n",
            "Epoch [2/5], Step [400/600], Loss: 0.0471\n",
            "Epoch [2/5], Step [500/600], Loss: 0.0722\n",
            "Epoch [2/5], Step [600/600], Loss: 0.1462\n",
            "Epoch [3/5], Step [100/600], Loss: 0.0304\n",
            "Epoch [3/5], Step [200/600], Loss: 0.0229\n",
            "Epoch [3/5], Step [300/600], Loss: 0.0722\n",
            "Epoch [3/5], Step [400/600], Loss: 0.1305\n",
            "Epoch [3/5], Step [500/600], Loss: 0.0976\n",
            "Epoch [3/5], Step [600/600], Loss: 0.0889\n",
            "Epoch [4/5], Step [100/600], Loss: 0.0376\n",
            "Epoch [4/5], Step [200/600], Loss: 0.0065\n",
            "Epoch [4/5], Step [300/600], Loss: 0.1022\n",
            "Epoch [4/5], Step [400/600], Loss: 0.0403\n",
            "Epoch [4/5], Step [500/600], Loss: 0.0426\n",
            "Epoch [4/5], Step [600/600], Loss: 0.0125\n",
            "Epoch [5/5], Step [100/600], Loss: 0.0168\n",
            "Epoch [5/5], Step [200/600], Loss: 0.0227\n",
            "Epoch [5/5], Step [300/600], Loss: 0.0127\n",
            "Epoch [5/5], Step [400/600], Loss: 0.0345\n",
            "Epoch [5/5], Step [500/600], Loss: 0.0016\n",
            "Epoch [5/5], Step [600/600], Loss: 0.0545\n",
            "\n",
            "Test accuracy on dataset:\n",
            "Test Accuracy: 97.80%\n",
            "Thời gian chạy: 96.17045736312866 giây\n"
          ]
        }
      ],
      "source": [
        "run = run_model_two_hidden_size(500, 700, mnist_train_data, mnist_test_data)"
      ]
    },
    {
      "cell_type": "code",
      "execution_count": null,
      "metadata": {
        "colab": {
          "base_uri": "https://localhost:8080/"
        },
        "id": "aWVDpVdbUvbJ",
        "outputId": "882a8e91-4cea-42e0-cdfd-cf5dd03b3900"
      },
      "outputs": [
        {
          "name": "stdout",
          "output_type": "stream",
          "text": [
            "Training on dataset...\n",
            "Epoch [1/5], Step [100/600], Loss: 0.3127\n",
            "Epoch [1/5], Step [200/600], Loss: 0.3768\n",
            "Epoch [1/5], Step [300/600], Loss: 0.2665\n",
            "Epoch [1/5], Step [400/600], Loss: 0.2157\n",
            "Epoch [1/5], Step [500/600], Loss: 0.1886\n",
            "Epoch [1/5], Step [600/600], Loss: 0.0868\n",
            "Epoch [2/5], Step [100/600], Loss: 0.1147\n",
            "Epoch [2/5], Step [200/600], Loss: 0.1177\n",
            "Epoch [2/5], Step [300/600], Loss: 0.0703\n",
            "Epoch [2/5], Step [400/600], Loss: 0.0636\n",
            "Epoch [2/5], Step [500/600], Loss: 0.1308\n",
            "Epoch [2/5], Step [600/600], Loss: 0.1631\n",
            "Epoch [3/5], Step [100/600], Loss: 0.0522\n",
            "Epoch [3/5], Step [200/600], Loss: 0.1135\n",
            "Epoch [3/5], Step [300/600], Loss: 0.0702\n",
            "Epoch [3/5], Step [400/600], Loss: 0.0121\n",
            "Epoch [3/5], Step [500/600], Loss: 0.0782\n",
            "Epoch [3/5], Step [600/600], Loss: 0.1495\n",
            "Epoch [4/5], Step [100/600], Loss: 0.0398\n",
            "Epoch [4/5], Step [200/600], Loss: 0.0624\n",
            "Epoch [4/5], Step [300/600], Loss: 0.0481\n",
            "Epoch [4/5], Step [400/600], Loss: 0.0555\n",
            "Epoch [4/5], Step [500/600], Loss: 0.0343\n",
            "Epoch [4/5], Step [600/600], Loss: 0.0549\n",
            "Epoch [5/5], Step [100/600], Loss: 0.0118\n",
            "Epoch [5/5], Step [200/600], Loss: 0.0208\n",
            "Epoch [5/5], Step [300/600], Loss: 0.0108\n",
            "Epoch [5/5], Step [400/600], Loss: 0.0100\n",
            "Epoch [5/5], Step [500/600], Loss: 0.0437\n",
            "Epoch [5/5], Step [600/600], Loss: 0.0090\n",
            "\n",
            "Test accuracy on dataset:\n",
            "Test Accuracy: 97.62%\n",
            "Thời gian chạy: 81.46510338783264 giây\n"
          ]
        }
      ],
      "source": [
        "run = run_model_two_hidden_size(700, 100, mnist_train_data, mnist_test_data)"
      ]
    },
    {
      "cell_type": "code",
      "execution_count": null,
      "metadata": {
        "colab": {
          "base_uri": "https://localhost:8080/"
        },
        "id": "FwHP7t35UyAM",
        "outputId": "9678068f-c07b-436f-b8bc-6ca8fbfa4963"
      },
      "outputs": [
        {
          "name": "stdout",
          "output_type": "stream",
          "text": [
            "Training on dataset...\n",
            "Epoch [1/5], Step [100/600], Loss: 0.4452\n",
            "Epoch [1/5], Step [200/600], Loss: 0.1638\n",
            "Epoch [1/5], Step [300/600], Loss: 0.1664\n",
            "Epoch [1/5], Step [400/600], Loss: 0.1427\n",
            "Epoch [1/5], Step [500/600], Loss: 0.1364\n",
            "Epoch [1/5], Step [600/600], Loss: 0.2172\n",
            "Epoch [2/5], Step [100/600], Loss: 0.0790\n",
            "Epoch [2/5], Step [200/600], Loss: 0.0317\n",
            "Epoch [2/5], Step [300/600], Loss: 0.0664\n",
            "Epoch [2/5], Step [400/600], Loss: 0.0257\n",
            "Epoch [2/5], Step [500/600], Loss: 0.0080\n",
            "Epoch [2/5], Step [600/600], Loss: 0.0966\n",
            "Epoch [3/5], Step [100/600], Loss: 0.0689\n",
            "Epoch [3/5], Step [200/600], Loss: 0.0649\n",
            "Epoch [3/5], Step [300/600], Loss: 0.0366\n",
            "Epoch [3/5], Step [400/600], Loss: 0.0489\n",
            "Epoch [3/5], Step [500/600], Loss: 0.1721\n",
            "Epoch [3/5], Step [600/600], Loss: 0.0123\n",
            "Epoch [4/5], Step [100/600], Loss: 0.0454\n",
            "Epoch [4/5], Step [200/600], Loss: 0.0295\n",
            "Epoch [4/5], Step [300/600], Loss: 0.0171\n",
            "Epoch [4/5], Step [400/600], Loss: 0.0137\n",
            "Epoch [4/5], Step [500/600], Loss: 0.0516\n",
            "Epoch [4/5], Step [600/600], Loss: 0.0583\n",
            "Epoch [5/5], Step [100/600], Loss: 0.0024\n",
            "Epoch [5/5], Step [200/600], Loss: 0.0075\n",
            "Epoch [5/5], Step [300/600], Loss: 0.0094\n",
            "Epoch [5/5], Step [400/600], Loss: 0.0106\n",
            "Epoch [5/5], Step [500/600], Loss: 0.0067\n",
            "Epoch [5/5], Step [600/600], Loss: 0.0480\n",
            "\n",
            "Test accuracy on dataset:\n",
            "Test Accuracy: 97.87%\n",
            "Thời gian chạy: 103.27695679664612 giây\n"
          ]
        }
      ],
      "source": [
        "run = run_model_two_hidden_size(700, 500, mnist_train_data, mnist_test_data)"
      ]
    },
    {
      "cell_type": "code",
      "execution_count": null,
      "metadata": {
        "colab": {
          "base_uri": "https://localhost:8080/"
        },
        "id": "HT2kYun2UzfQ",
        "outputId": "387d9af7-942d-4010-a663-94e14da12dc6"
      },
      "outputs": [
        {
          "name": "stdout",
          "output_type": "stream",
          "text": [
            "Training on dataset...\n",
            "Epoch [1/5], Step [100/600], Loss: 0.2305\n",
            "Epoch [1/5], Step [200/600], Loss: 0.1025\n",
            "Epoch [1/5], Step [300/600], Loss: 0.1634\n",
            "Epoch [1/5], Step [400/600], Loss: 0.2112\n",
            "Epoch [1/5], Step [500/600], Loss: 0.1886\n",
            "Epoch [1/5], Step [600/600], Loss: 0.1068\n",
            "Epoch [2/5], Step [100/600], Loss: 0.1129\n",
            "Epoch [2/5], Step [200/600], Loss: 0.0651\n",
            "Epoch [2/5], Step [300/600], Loss: 0.0490\n",
            "Epoch [2/5], Step [400/600], Loss: 0.0839\n",
            "Epoch [2/5], Step [500/600], Loss: 0.0100\n",
            "Epoch [2/5], Step [600/600], Loss: 0.0343\n",
            "Epoch [3/5], Step [100/600], Loss: 0.0664\n",
            "Epoch [3/5], Step [200/600], Loss: 0.0734\n",
            "Epoch [3/5], Step [300/600], Loss: 0.0720\n",
            "Epoch [3/5], Step [400/600], Loss: 0.0810\n",
            "Epoch [3/5], Step [500/600], Loss: 0.0536\n",
            "Epoch [3/5], Step [600/600], Loss: 0.0871\n",
            "Epoch [4/5], Step [100/600], Loss: 0.0638\n",
            "Epoch [4/5], Step [200/600], Loss: 0.0075\n",
            "Epoch [4/5], Step [300/600], Loss: 0.0231\n",
            "Epoch [4/5], Step [400/600], Loss: 0.0965\n",
            "Epoch [4/5], Step [500/600], Loss: 0.0623\n",
            "Epoch [4/5], Step [600/600], Loss: 0.0782\n",
            "Epoch [5/5], Step [100/600], Loss: 0.0043\n",
            "Epoch [5/5], Step [200/600], Loss: 0.0133\n",
            "Epoch [5/5], Step [300/600], Loss: 0.0351\n",
            "Epoch [5/5], Step [400/600], Loss: 0.0281\n",
            "Epoch [5/5], Step [500/600], Loss: 0.0706\n",
            "Epoch [5/5], Step [600/600], Loss: 0.1426\n",
            "\n",
            "Test accuracy on dataset:\n",
            "Test Accuracy: 97.71%\n",
            "Thời gian chạy: 113.14177536964417 giây\n"
          ]
        }
      ],
      "source": [
        "run = run_model_two_hidden_size(700, 700, mnist_train_data, mnist_test_data)"
      ]
    },
    {
      "cell_type": "code",
      "execution_count": null,
      "metadata": {
        "colab": {
          "base_uri": "https://localhost:8080/"
        },
        "id": "7ZnoDodNU1hA",
        "outputId": "e251e74b-484b-4acc-c9a6-1d9681e31bab"
      },
      "outputs": [
        {
          "name": "stdout",
          "output_type": "stream",
          "text": [
            "Training on dataset...\n",
            "Epoch [1/5], Step [100/600], Loss: 0.6670\n",
            "Epoch [1/5], Step [200/600], Loss: 0.3385\n",
            "Epoch [1/5], Step [300/600], Loss: 0.1766\n",
            "Epoch [1/5], Step [400/600], Loss: 0.2819\n",
            "Epoch [1/5], Step [500/600], Loss: 0.1705\n",
            "Epoch [1/5], Step [600/600], Loss: 0.1644\n",
            "Epoch [2/5], Step [100/600], Loss: 0.2005\n",
            "Epoch [2/5], Step [200/600], Loss: 0.1544\n",
            "Epoch [2/5], Step [300/600], Loss: 0.1885\n",
            "Epoch [2/5], Step [400/600], Loss: 0.1686\n",
            "Epoch [2/5], Step [500/600], Loss: 0.0823\n",
            "Epoch [2/5], Step [600/600], Loss: 0.1032\n",
            "Epoch [3/5], Step [100/600], Loss: 0.1156\n",
            "Epoch [3/5], Step [200/600], Loss: 0.0738\n",
            "Epoch [3/5], Step [300/600], Loss: 0.1882\n",
            "Epoch [3/5], Step [400/600], Loss: 0.1560\n",
            "Epoch [3/5], Step [500/600], Loss: 0.1412\n",
            "Epoch [3/5], Step [600/600], Loss: 0.0973\n",
            "Epoch [4/5], Step [100/600], Loss: 0.1006\n",
            "Epoch [4/5], Step [200/600], Loss: 0.0419\n",
            "Epoch [4/5], Step [300/600], Loss: 0.1303\n",
            "Epoch [4/5], Step [400/600], Loss: 0.1013\n",
            "Epoch [4/5], Step [500/600], Loss: 0.0951\n",
            "Epoch [4/5], Step [600/600], Loss: 0.1145\n",
            "Epoch [5/5], Step [100/600], Loss: 0.0855\n",
            "Epoch [5/5], Step [200/600], Loss: 0.0464\n",
            "Epoch [5/5], Step [300/600], Loss: 0.0840\n",
            "Epoch [5/5], Step [400/600], Loss: 0.1220\n",
            "Epoch [5/5], Step [500/600], Loss: 0.1955\n",
            "Epoch [5/5], Step [600/600], Loss: 0.0655\n",
            "\n",
            "Test accuracy on dataset:\n",
            "Test Accuracy: 96.57%\n",
            "Thời gian chạy: 9.791680097579956 giây\n"
          ]
        }
      ],
      "source": [
        "run = run_model_feature_two_hidden_size(100, 100, mnist_train_data, mnist_test_data, True)"
      ]
    },
    {
      "cell_type": "code",
      "execution_count": null,
      "metadata": {
        "colab": {
          "base_uri": "https://localhost:8080/"
        },
        "id": "4HAzOVOoU-o4",
        "outputId": "6346e0a3-991b-4b0a-d299-54e824d0c68e"
      },
      "outputs": [
        {
          "name": "stdout",
          "output_type": "stream",
          "text": [
            "Training on dataset...\n",
            "Epoch [1/5], Step [100/600], Loss: 0.3834\n",
            "Epoch [1/5], Step [200/600], Loss: 0.2855\n",
            "Epoch [1/5], Step [300/600], Loss: 0.2037\n",
            "Epoch [1/5], Step [400/600], Loss: 0.2743\n",
            "Epoch [1/5], Step [500/600], Loss: 0.1541\n",
            "Epoch [1/5], Step [600/600], Loss: 0.2473\n",
            "Epoch [2/5], Step [100/600], Loss: 0.1212\n",
            "Epoch [2/5], Step [200/600], Loss: 0.0864\n",
            "Epoch [2/5], Step [300/600], Loss: 0.0871\n",
            "Epoch [2/5], Step [400/600], Loss: 0.1211\n",
            "Epoch [2/5], Step [500/600], Loss: 0.0708\n",
            "Epoch [2/5], Step [600/600], Loss: 0.0825\n",
            "Epoch [3/5], Step [100/600], Loss: 0.1597\n",
            "Epoch [3/5], Step [200/600], Loss: 0.0713\n",
            "Epoch [3/5], Step [300/600], Loss: 0.1173\n",
            "Epoch [3/5], Step [400/600], Loss: 0.1305\n",
            "Epoch [3/5], Step [500/600], Loss: 0.1090\n",
            "Epoch [3/5], Step [600/600], Loss: 0.2621\n",
            "Epoch [4/5], Step [100/600], Loss: 0.2895\n",
            "Epoch [4/5], Step [200/600], Loss: 0.0614\n",
            "Epoch [4/5], Step [300/600], Loss: 0.0266\n",
            "Epoch [4/5], Step [400/600], Loss: 0.1495\n",
            "Epoch [4/5], Step [500/600], Loss: 0.0760\n",
            "Epoch [4/5], Step [600/600], Loss: 0.1899\n",
            "Epoch [5/5], Step [100/600], Loss: 0.1060\n",
            "Epoch [5/5], Step [200/600], Loss: 0.1116\n",
            "Epoch [5/5], Step [300/600], Loss: 0.0676\n",
            "Epoch [5/5], Step [400/600], Loss: 0.0897\n",
            "Epoch [5/5], Step [500/600], Loss: 0.0585\n",
            "Epoch [5/5], Step [600/600], Loss: 0.0540\n",
            "\n",
            "Test accuracy on dataset:\n",
            "Test Accuracy: 97.07%\n",
            "Thời gian chạy: 13.8095121383667 giây\n"
          ]
        }
      ],
      "source": [
        "run = run_model_feature_two_hidden_size(100, 500, mnist_train_data, mnist_test_data, True)"
      ]
    },
    {
      "cell_type": "code",
      "execution_count": null,
      "metadata": {
        "colab": {
          "base_uri": "https://localhost:8080/"
        },
        "id": "z-E-gVLdVCrw",
        "outputId": "921707b7-76fc-4c9e-ca2a-db1a755c0508"
      },
      "outputs": [
        {
          "name": "stdout",
          "output_type": "stream",
          "text": [
            "Training on dataset...\n",
            "Epoch [1/5], Step [100/600], Loss: 0.3383\n",
            "Epoch [1/5], Step [200/600], Loss: 0.2399\n",
            "Epoch [1/5], Step [300/600], Loss: 0.2211\n",
            "Epoch [1/5], Step [400/600], Loss: 0.2221\n",
            "Epoch [1/5], Step [500/600], Loss: 0.1243\n",
            "Epoch [1/5], Step [600/600], Loss: 0.2158\n",
            "Epoch [2/5], Step [100/600], Loss: 0.1157\n",
            "Epoch [2/5], Step [200/600], Loss: 0.2299\n",
            "Epoch [2/5], Step [300/600], Loss: 0.2553\n",
            "Epoch [2/5], Step [400/600], Loss: 0.1146\n",
            "Epoch [2/5], Step [500/600], Loss: 0.0878\n",
            "Epoch [2/5], Step [600/600], Loss: 0.2167\n",
            "Epoch [3/5], Step [100/600], Loss: 0.0942\n",
            "Epoch [3/5], Step [200/600], Loss: 0.1818\n",
            "Epoch [3/5], Step [300/600], Loss: 0.1524\n",
            "Epoch [3/5], Step [400/600], Loss: 0.0891\n",
            "Epoch [3/5], Step [500/600], Loss: 0.1172\n",
            "Epoch [3/5], Step [600/600], Loss: 0.0813\n",
            "Epoch [4/5], Step [100/600], Loss: 0.2134\n",
            "Epoch [4/5], Step [200/600], Loss: 0.1064\n",
            "Epoch [4/5], Step [300/600], Loss: 0.0699\n",
            "Epoch [4/5], Step [400/600], Loss: 0.0358\n",
            "Epoch [4/5], Step [500/600], Loss: 0.0825\n",
            "Epoch [4/5], Step [600/600], Loss: 0.1928\n",
            "Epoch [5/5], Step [100/600], Loss: 0.0682\n",
            "Epoch [5/5], Step [200/600], Loss: 0.0361\n",
            "Epoch [5/5], Step [300/600], Loss: 0.0455\n",
            "Epoch [5/5], Step [400/600], Loss: 0.1192\n",
            "Epoch [5/5], Step [500/600], Loss: 0.0335\n",
            "Epoch [5/5], Step [600/600], Loss: 0.1091\n",
            "\n",
            "Test accuracy on dataset:\n",
            "Test Accuracy: 96.74%\n",
            "Thời gian chạy: 17.387623071670532 giây\n"
          ]
        }
      ],
      "source": [
        "run = run_model_feature_two_hidden_size(100, 700, mnist_train_data, mnist_test_data, True)"
      ]
    },
    {
      "cell_type": "code",
      "execution_count": null,
      "metadata": {
        "colab": {
          "base_uri": "https://localhost:8080/"
        },
        "id": "ISHb5mLuVEE8",
        "outputId": "0625af11-af93-4a7d-fff4-992293b35ee6"
      },
      "outputs": [
        {
          "name": "stdout",
          "output_type": "stream",
          "text": [
            "Training on dataset...\n",
            "Epoch [1/5], Step [100/600], Loss: 0.3903\n",
            "Epoch [1/5], Step [200/600], Loss: 0.2193\n",
            "Epoch [1/5], Step [300/600], Loss: 0.3066\n",
            "Epoch [1/5], Step [400/600], Loss: 0.1841\n",
            "Epoch [1/5], Step [500/600], Loss: 0.1762\n",
            "Epoch [1/5], Step [600/600], Loss: 0.1559\n",
            "Epoch [2/5], Step [100/600], Loss: 0.0629\n",
            "Epoch [2/5], Step [200/600], Loss: 0.1454\n",
            "Epoch [2/5], Step [300/600], Loss: 0.1326\n",
            "Epoch [2/5], Step [400/600], Loss: 0.1122\n",
            "Epoch [2/5], Step [500/600], Loss: 0.0841\n",
            "Epoch [2/5], Step [600/600], Loss: 0.1652\n",
            "Epoch [3/5], Step [100/600], Loss: 0.0938\n",
            "Epoch [3/5], Step [200/600], Loss: 0.2013\n",
            "Epoch [3/5], Step [300/600], Loss: 0.1461\n",
            "Epoch [3/5], Step [400/600], Loss: 0.1470\n",
            "Epoch [3/5], Step [500/600], Loss: 0.1622\n",
            "Epoch [3/5], Step [600/600], Loss: 0.0870\n",
            "Epoch [4/5], Step [100/600], Loss: 0.0601\n",
            "Epoch [4/5], Step [200/600], Loss: 0.0682\n",
            "Epoch [4/5], Step [300/600], Loss: 0.1136\n",
            "Epoch [4/5], Step [400/600], Loss: 0.0777\n",
            "Epoch [4/5], Step [500/600], Loss: 0.1855\n",
            "Epoch [4/5], Step [600/600], Loss: 0.1277\n",
            "Epoch [5/5], Step [100/600], Loss: 0.0582\n",
            "Epoch [5/5], Step [200/600], Loss: 0.0623\n",
            "Epoch [5/5], Step [300/600], Loss: 0.1011\n",
            "Epoch [5/5], Step [400/600], Loss: 0.1181\n",
            "Epoch [5/5], Step [500/600], Loss: 0.1026\n",
            "Epoch [5/5], Step [600/600], Loss: 0.0610\n",
            "\n",
            "Test accuracy on dataset:\n",
            "Test Accuracy: 97.21%\n",
            "Thời gian chạy: 15.301312685012817 giây\n"
          ]
        }
      ],
      "source": [
        "run = run_model_feature_two_hidden_size(500, 100, mnist_train_data, mnist_test_data, True)"
      ]
    },
    {
      "cell_type": "code",
      "execution_count": null,
      "metadata": {
        "colab": {
          "base_uri": "https://localhost:8080/"
        },
        "id": "HsjaYhRtVFjc",
        "outputId": "35e6cab8-50d4-4612-b379-5523b9d72598"
      },
      "outputs": [
        {
          "name": "stdout",
          "output_type": "stream",
          "text": [
            "Training on dataset...\n",
            "Epoch [1/5], Step [100/600], Loss: 0.4181\n",
            "Epoch [1/5], Step [200/600], Loss: 0.3329\n",
            "Epoch [1/5], Step [300/600], Loss: 0.1536\n",
            "Epoch [1/5], Step [400/600], Loss: 0.2017\n",
            "Epoch [1/5], Step [500/600], Loss: 0.1123\n",
            "Epoch [1/5], Step [600/600], Loss: 0.0901\n",
            "Epoch [2/5], Step [100/600], Loss: 0.0878\n",
            "Epoch [2/5], Step [200/600], Loss: 0.0949\n",
            "Epoch [2/5], Step [300/600], Loss: 0.0868\n",
            "Epoch [2/5], Step [400/600], Loss: 0.2347\n",
            "Epoch [2/5], Step [500/600], Loss: 0.1149\n",
            "Epoch [2/5], Step [600/600], Loss: 0.1946\n",
            "Epoch [3/5], Step [100/600], Loss: 0.1233\n",
            "Epoch [3/5], Step [200/600], Loss: 0.0910\n",
            "Epoch [3/5], Step [300/600], Loss: 0.1593\n",
            "Epoch [3/5], Step [400/600], Loss: 0.1044\n",
            "Epoch [3/5], Step [500/600], Loss: 0.0308\n",
            "Epoch [3/5], Step [600/600], Loss: 0.0650\n",
            "Epoch [4/5], Step [100/600], Loss: 0.0871\n",
            "Epoch [4/5], Step [200/600], Loss: 0.0480\n",
            "Epoch [4/5], Step [300/600], Loss: 0.1291\n",
            "Epoch [4/5], Step [400/600], Loss: 0.1146\n",
            "Epoch [4/5], Step [500/600], Loss: 0.0679\n",
            "Epoch [4/5], Step [600/600], Loss: 0.0848\n",
            "Epoch [5/5], Step [100/600], Loss: 0.0754\n",
            "Epoch [5/5], Step [200/600], Loss: 0.0937\n",
            "Epoch [5/5], Step [300/600], Loss: 0.0445\n",
            "Epoch [5/5], Step [400/600], Loss: 0.0189\n",
            "Epoch [5/5], Step [500/600], Loss: 0.0482\n",
            "Epoch [5/5], Step [600/600], Loss: 0.0519\n",
            "\n",
            "Test accuracy on dataset:\n",
            "Test Accuracy: 97.62%\n",
            "Thời gian chạy: 34.50963616371155 giây\n"
          ]
        }
      ],
      "source": [
        "run = run_model_feature_two_hidden_size(500, 500, mnist_train_data, mnist_test_data, True)"
      ]
    },
    {
      "cell_type": "code",
      "execution_count": null,
      "metadata": {
        "colab": {
          "base_uri": "https://localhost:8080/"
        },
        "id": "63SHBauCVHQR",
        "outputId": "b91ffaf7-ffbb-4261-838c-acaa234c903d"
      },
      "outputs": [
        {
          "name": "stdout",
          "output_type": "stream",
          "text": [
            "Training on dataset...\n",
            "Epoch [1/5], Step [100/600], Loss: 0.2527\n",
            "Epoch [1/5], Step [200/600], Loss: 0.1272\n",
            "Epoch [1/5], Step [300/600], Loss: 0.0479\n",
            "Epoch [1/5], Step [400/600], Loss: 0.0471\n",
            "Epoch [1/5], Step [500/600], Loss: 0.0655\n",
            "Epoch [1/5], Step [600/600], Loss: 0.2112\n",
            "Epoch [2/5], Step [100/600], Loss: 0.1842\n",
            "Epoch [2/5], Step [200/600], Loss: 0.1578\n",
            "Epoch [2/5], Step [300/600], Loss: 0.0778\n",
            "Epoch [2/5], Step [400/600], Loss: 0.0699\n",
            "Epoch [2/5], Step [500/600], Loss: 0.1045\n",
            "Epoch [2/5], Step [600/600], Loss: 0.0710\n",
            "Epoch [3/5], Step [100/600], Loss: 0.0762\n",
            "Epoch [3/5], Step [200/600], Loss: 0.0642\n",
            "Epoch [3/5], Step [300/600], Loss: 0.0991\n",
            "Epoch [3/5], Step [400/600], Loss: 0.0259\n",
            "Epoch [3/5], Step [500/600], Loss: 0.1311\n",
            "Epoch [3/5], Step [600/600], Loss: 0.0504\n",
            "Epoch [4/5], Step [100/600], Loss: 0.1456\n",
            "Epoch [4/5], Step [200/600], Loss: 0.0953\n",
            "Epoch [4/5], Step [300/600], Loss: 0.0383\n",
            "Epoch [4/5], Step [400/600], Loss: 0.0921\n",
            "Epoch [4/5], Step [500/600], Loss: 0.0693\n",
            "Epoch [4/5], Step [600/600], Loss: 0.0424\n",
            "Epoch [5/5], Step [100/600], Loss: 0.0911\n",
            "Epoch [5/5], Step [200/600], Loss: 0.1469\n",
            "Epoch [5/5], Step [300/600], Loss: 0.1000\n",
            "Epoch [5/5], Step [400/600], Loss: 0.0529\n",
            "Epoch [5/5], Step [500/600], Loss: 0.0970\n",
            "Epoch [5/5], Step [600/600], Loss: 0.0571\n",
            "\n",
            "Test accuracy on dataset:\n",
            "Test Accuracy: 97.04%\n",
            "Thời gian chạy: 43.742713928222656 giây\n"
          ]
        }
      ],
      "source": [
        "run = run_model_feature_two_hidden_size(500, 700, mnist_train_data, mnist_test_data, True)"
      ]
    },
    {
      "cell_type": "code",
      "execution_count": null,
      "metadata": {
        "colab": {
          "base_uri": "https://localhost:8080/"
        },
        "id": "4S4FzOQRVJUR",
        "outputId": "0608ea9c-cff7-47e0-985b-2f05765a0775"
      },
      "outputs": [
        {
          "name": "stdout",
          "output_type": "stream",
          "text": [
            "Training on dataset...\n",
            "Epoch [1/5], Step [100/600], Loss: 0.3552\n",
            "Epoch [1/5], Step [200/600], Loss: 0.3601\n",
            "Epoch [1/5], Step [300/600], Loss: 0.1448\n",
            "Epoch [1/5], Step [400/600], Loss: 0.1976\n",
            "Epoch [1/5], Step [500/600], Loss: 0.1213\n",
            "Epoch [1/5], Step [600/600], Loss: 0.1603\n",
            "Epoch [2/5], Step [100/600], Loss: 0.0834\n",
            "Epoch [2/5], Step [200/600], Loss: 0.1256\n",
            "Epoch [2/5], Step [300/600], Loss: 0.1105\n",
            "Epoch [2/5], Step [400/600], Loss: 0.1450\n",
            "Epoch [2/5], Step [500/600], Loss: 0.0576\n",
            "Epoch [2/5], Step [600/600], Loss: 0.1833\n",
            "Epoch [3/5], Step [100/600], Loss: 0.1233\n",
            "Epoch [3/5], Step [200/600], Loss: 0.0666\n",
            "Epoch [3/5], Step [300/600], Loss: 0.0921\n",
            "Epoch [3/5], Step [400/600], Loss: 0.1779\n",
            "Epoch [3/5], Step [500/600], Loss: 0.0834\n",
            "Epoch [3/5], Step [600/600], Loss: 0.1963\n",
            "Epoch [4/5], Step [100/600], Loss: 0.1312\n",
            "Epoch [4/5], Step [200/600], Loss: 0.0729\n",
            "Epoch [4/5], Step [300/600], Loss: 0.1746\n",
            "Epoch [4/5], Step [400/600], Loss: 0.0957\n",
            "Epoch [4/5], Step [500/600], Loss: 0.0636\n",
            "Epoch [4/5], Step [600/600], Loss: 0.0727\n",
            "Epoch [5/5], Step [100/600], Loss: 0.0924\n",
            "Epoch [5/5], Step [200/600], Loss: 0.0803\n",
            "Epoch [5/5], Step [300/600], Loss: 0.0617\n",
            "Epoch [5/5], Step [400/600], Loss: 0.1602\n",
            "Epoch [5/5], Step [500/600], Loss: 0.1013\n",
            "Epoch [5/5], Step [600/600], Loss: 0.0458\n",
            "\n",
            "Test accuracy on dataset:\n",
            "Test Accuracy: 96.96%\n",
            "Thời gian chạy: 18.148921251296997 giây\n"
          ]
        }
      ],
      "source": [
        "run = run_model_feature_two_hidden_size(700, 100, mnist_train_data, mnist_test_data, True)"
      ]
    },
    {
      "cell_type": "code",
      "execution_count": null,
      "metadata": {
        "colab": {
          "base_uri": "https://localhost:8080/"
        },
        "id": "hQIJFpu2VLJs",
        "outputId": "8a6a340a-482f-42dc-949d-be69328e37f0"
      },
      "outputs": [
        {
          "name": "stdout",
          "output_type": "stream",
          "text": [
            "Training on dataset...\n",
            "Epoch [1/5], Step [100/600], Loss: 0.2548\n",
            "Epoch [1/5], Step [200/600], Loss: 0.2629\n",
            "Epoch [1/5], Step [300/600], Loss: 0.1050\n",
            "Epoch [1/5], Step [400/600], Loss: 0.1465\n",
            "Epoch [1/5], Step [500/600], Loss: 0.1564\n",
            "Epoch [1/5], Step [600/600], Loss: 0.2218\n",
            "Epoch [2/5], Step [100/600], Loss: 0.1819\n",
            "Epoch [2/5], Step [200/600], Loss: 0.1881\n",
            "Epoch [2/5], Step [300/600], Loss: 0.1160\n",
            "Epoch [2/5], Step [400/600], Loss: 0.1093\n",
            "Epoch [2/5], Step [500/600], Loss: 0.1282\n",
            "Epoch [2/5], Step [600/600], Loss: 0.1482\n",
            "Epoch [3/5], Step [100/600], Loss: 0.1124\n",
            "Epoch [3/5], Step [200/600], Loss: 0.1873\n",
            "Epoch [3/5], Step [300/600], Loss: 0.1196\n",
            "Epoch [3/5], Step [400/600], Loss: 0.0901\n",
            "Epoch [3/5], Step [500/600], Loss: 0.0472\n",
            "Epoch [3/5], Step [600/600], Loss: 0.0694\n",
            "Epoch [4/5], Step [100/600], Loss: 0.0874\n",
            "Epoch [4/5], Step [200/600], Loss: 0.0611\n",
            "Epoch [4/5], Step [300/600], Loss: 0.1291\n",
            "Epoch [4/5], Step [400/600], Loss: 0.0729\n",
            "Epoch [4/5], Step [500/600], Loss: 0.0714\n",
            "Epoch [4/5], Step [600/600], Loss: 0.0381\n",
            "Epoch [5/5], Step [100/600], Loss: 0.1126\n",
            "Epoch [5/5], Step [200/600], Loss: 0.1295\n",
            "Epoch [5/5], Step [300/600], Loss: 0.0888\n",
            "Epoch [5/5], Step [400/600], Loss: 0.0731\n",
            "Epoch [5/5], Step [500/600], Loss: 0.0676\n",
            "Epoch [5/5], Step [600/600], Loss: 0.0683\n",
            "\n",
            "Test accuracy on dataset:\n",
            "Test Accuracy: 97.24%\n",
            "Thời gian chạy: 43.128525495529175 giây\n"
          ]
        }
      ],
      "source": [
        "run = run_model_feature_two_hidden_size(700, 500, mnist_train_data, mnist_test_data, True)"
      ]
    },
    {
      "cell_type": "code",
      "execution_count": null,
      "metadata": {
        "colab": {
          "base_uri": "https://localhost:8080/"
        },
        "id": "zixnWpVWVNEs",
        "outputId": "aee4f453-9070-46ed-da15-5ecc5865898e"
      },
      "outputs": [
        {
          "name": "stdout",
          "output_type": "stream",
          "text": [
            "Training on dataset...\n",
            "Epoch [1/5], Step [100/600], Loss: 0.2631\n",
            "Epoch [1/5], Step [200/600], Loss: 0.2364\n",
            "Epoch [1/5], Step [300/600], Loss: 0.1184\n",
            "Epoch [1/5], Step [400/600], Loss: 0.1560\n",
            "Epoch [1/5], Step [500/600], Loss: 0.1550\n",
            "Epoch [1/5], Step [600/600], Loss: 0.0779\n",
            "Epoch [2/5], Step [100/600], Loss: 0.1730\n",
            "Epoch [2/5], Step [200/600], Loss: 0.1183\n",
            "Epoch [2/5], Step [300/600], Loss: 0.0768\n",
            "Epoch [2/5], Step [400/600], Loss: 0.1400\n",
            "Epoch [2/5], Step [500/600], Loss: 0.1522\n",
            "Epoch [2/5], Step [600/600], Loss: 0.1912\n",
            "Epoch [3/5], Step [100/600], Loss: 0.0278\n",
            "Epoch [3/5], Step [200/600], Loss: 0.0931\n",
            "Epoch [3/5], Step [300/600], Loss: 0.0633\n",
            "Epoch [3/5], Step [400/600], Loss: 0.1287\n",
            "Epoch [3/5], Step [500/600], Loss: 0.0803\n",
            "Epoch [3/5], Step [600/600], Loss: 0.0702\n",
            "Epoch [4/5], Step [100/600], Loss: 0.2083\n",
            "Epoch [4/5], Step [200/600], Loss: 0.1497\n",
            "Epoch [4/5], Step [300/600], Loss: 0.0520\n",
            "Epoch [4/5], Step [400/600], Loss: 0.0760\n",
            "Epoch [4/5], Step [500/600], Loss: 0.0880\n",
            "Epoch [4/5], Step [600/600], Loss: 0.0701\n",
            "Epoch [5/5], Step [100/600], Loss: 0.1304\n",
            "Epoch [5/5], Step [200/600], Loss: 0.0477\n",
            "Epoch [5/5], Step [300/600], Loss: 0.0672\n",
            "Epoch [5/5], Step [400/600], Loss: 0.0972\n",
            "Epoch [5/5], Step [500/600], Loss: 0.0703\n",
            "Epoch [5/5], Step [600/600], Loss: 0.1052\n",
            "\n",
            "Test accuracy on dataset:\n",
            "Test Accuracy: 97.50%\n",
            "Thời gian chạy: 55.73990821838379 giây\n"
          ]
        }
      ],
      "source": [
        "run = run_model_feature_two_hidden_size(700, 700, mnist_train_data, mnist_test_data, True)"
      ]
    },
    {
      "cell_type": "code",
      "execution_count": null,
      "metadata": {
        "colab": {
          "base_uri": "https://localhost:8080/"
        },
        "id": "WFCqZFrRVO6m",
        "outputId": "1dc1948c-3d85-4012-d7a8-73c3dbf13765"
      },
      "outputs": [
        {
          "name": "stdout",
          "output_type": "stream",
          "text": [
            "Training on dataset...\n",
            "Epoch [1/5], Step [100/600], Loss: 2.2675\n",
            "Epoch [1/5], Step [200/600], Loss: 2.1960\n",
            "Epoch [1/5], Step [300/600], Loss: 2.0343\n",
            "Epoch [1/5], Step [400/600], Loss: 1.8840\n",
            "Epoch [1/5], Step [500/600], Loss: 1.9406\n",
            "Epoch [1/5], Step [600/600], Loss: 1.8919\n",
            "Epoch [2/5], Step [100/600], Loss: 1.8768\n",
            "Epoch [2/5], Step [200/600], Loss: 1.7653\n",
            "Epoch [2/5], Step [300/600], Loss: 1.8608\n",
            "Epoch [2/5], Step [400/600], Loss: 1.8205\n",
            "Epoch [2/5], Step [500/600], Loss: 1.8788\n",
            "Epoch [2/5], Step [600/600], Loss: 1.8978\n",
            "Epoch [3/5], Step [100/600], Loss: 1.7848\n",
            "Epoch [3/5], Step [200/600], Loss: 1.8017\n",
            "Epoch [3/5], Step [300/600], Loss: 1.6871\n",
            "Epoch [3/5], Step [400/600], Loss: 1.8914\n",
            "Epoch [3/5], Step [500/600], Loss: 1.8514\n",
            "Epoch [3/5], Step [600/600], Loss: 1.8358\n",
            "Epoch [4/5], Step [100/600], Loss: 1.8686\n",
            "Epoch [4/5], Step [200/600], Loss: 1.7106\n",
            "Epoch [4/5], Step [300/600], Loss: 1.8110\n",
            "Epoch [4/5], Step [400/600], Loss: 1.9075\n",
            "Epoch [4/5], Step [500/600], Loss: 1.8084\n",
            "Epoch [4/5], Step [600/600], Loss: 1.7860\n",
            "Epoch [5/5], Step [100/600], Loss: 1.8408\n",
            "Epoch [5/5], Step [200/600], Loss: 1.7603\n",
            "Epoch [5/5], Step [300/600], Loss: 1.7635\n",
            "Epoch [5/5], Step [400/600], Loss: 1.7611\n",
            "Epoch [5/5], Step [500/600], Loss: 1.6886\n",
            "Epoch [5/5], Step [600/600], Loss: 1.7348\n",
            "\n",
            "Test accuracy on dataset:\n",
            "Test Accuracy: 32.72%\n",
            "Thời gian chạy: 18.6386775970459 giây\n"
          ]
        }
      ],
      "source": [
        "run = run_model_feature_one_hidden_size(700, mnist_train_data, mnist_test_data, False)"
      ]
    },
    {
      "cell_type": "code",
      "execution_count": 9,
      "metadata": {
        "colab": {
          "base_uri": "https://localhost:8080/"
        },
        "id": "hEdU4YQjYAMZ",
        "outputId": "ebfaca87-2ad8-4ef9-8489-3f8a70a77977"
      },
      "outputs": [
        {
          "name": "stdout",
          "output_type": "stream",
          "text": [
            "Training on dataset...\n",
            "Epoch [1/5], Step [100/600], Loss: 2.1287\n",
            "Epoch [1/5], Step [200/600], Loss: 1.8426\n",
            "Epoch [1/5], Step [300/600], Loss: 1.8475\n",
            "Epoch [1/5], Step [400/600], Loss: 1.8308\n",
            "Epoch [1/5], Step [500/600], Loss: 1.9268\n",
            "Epoch [1/5], Step [600/600], Loss: 1.7828\n",
            "Epoch [2/5], Step [100/600], Loss: 1.8942\n",
            "Epoch [2/5], Step [200/600], Loss: 1.7362\n",
            "Epoch [2/5], Step [300/600], Loss: 1.9739\n",
            "Epoch [2/5], Step [400/600], Loss: 1.8414\n",
            "Epoch [2/5], Step [500/600], Loss: 1.7344\n",
            "Epoch [2/5], Step [600/600], Loss: 1.7490\n",
            "Epoch [3/5], Step [100/600], Loss: 1.9079\n",
            "Epoch [3/5], Step [200/600], Loss: 1.6607\n",
            "Epoch [3/5], Step [300/600], Loss: 1.8117\n",
            "Epoch [3/5], Step [400/600], Loss: 1.6659\n",
            "Epoch [3/5], Step [500/600], Loss: 1.8710\n",
            "Epoch [3/5], Step [600/600], Loss: 1.9189\n",
            "Epoch [4/5], Step [100/600], Loss: 1.8750\n",
            "Epoch [4/5], Step [200/600], Loss: 1.5938\n",
            "Epoch [4/5], Step [300/600], Loss: 1.8277\n",
            "Epoch [4/5], Step [400/600], Loss: 1.6398\n",
            "Epoch [4/5], Step [500/600], Loss: 1.7396\n",
            "Epoch [4/5], Step [600/600], Loss: 1.8291\n",
            "Epoch [5/5], Step [100/600], Loss: 1.8221\n",
            "Epoch [5/5], Step [200/600], Loss: 1.7522\n",
            "Epoch [5/5], Step [300/600], Loss: 1.7607\n",
            "Epoch [5/5], Step [400/600], Loss: 1.6435\n",
            "Epoch [5/5], Step [500/600], Loss: 1.7935\n",
            "Epoch [5/5], Step [600/600], Loss: 1.9071\n",
            "\n",
            "Test accuracy on dataset:\n",
            "Test Accuracy: 32.79%\n",
            "Thời gian chạy: 37.758782386779785 giây\n"
          ]
        }
      ],
      "source": [
        "run = run_model_feature_two_hidden_size(500, 500, mnist_train_data, mnist_test_data, False)"
      ]
    },
    {
      "cell_type": "code",
      "execution_count": null,
      "metadata": {
        "colab": {
          "base_uri": "https://localhost:8080/"
        },
        "id": "R6n-Lqu6ZKa9",
        "outputId": "769d32ed-07d9-4b1c-bb81-7229f954f167"
      },
      "outputs": [
        {
          "name": "stdout",
          "output_type": "stream",
          "text": [
            "Training on dataset...\n",
            "Epoch [1/5], Step [100/600], Loss: 0.6036\n",
            "Epoch [1/5], Step [200/600], Loss: 0.6699\n",
            "Epoch [1/5], Step [300/600], Loss: 0.5925\n",
            "Epoch [1/5], Step [400/600], Loss: 0.4635\n",
            "Epoch [1/5], Step [500/600], Loss: 0.3876\n",
            "Epoch [1/5], Step [600/600], Loss: 0.3378\n",
            "Epoch [2/5], Step [100/600], Loss: 0.4256\n",
            "Epoch [2/5], Step [200/600], Loss: 0.3489\n",
            "Epoch [2/5], Step [300/600], Loss: 0.4274\n",
            "Epoch [2/5], Step [400/600], Loss: 0.2824\n",
            "Epoch [2/5], Step [500/600], Loss: 0.3589\n",
            "Epoch [2/5], Step [600/600], Loss: 0.4257\n",
            "Epoch [3/5], Step [100/600], Loss: 0.4096\n",
            "Epoch [3/5], Step [200/600], Loss: 0.3844\n",
            "Epoch [3/5], Step [300/600], Loss: 0.2561\n",
            "Epoch [3/5], Step [400/600], Loss: 0.4566\n",
            "Epoch [3/5], Step [500/600], Loss: 0.4272\n",
            "Epoch [3/5], Step [600/600], Loss: 0.4387\n",
            "Epoch [4/5], Step [100/600], Loss: 0.3759\n",
            "Epoch [4/5], Step [200/600], Loss: 0.3280\n",
            "Epoch [4/5], Step [300/600], Loss: 0.3798\n",
            "Epoch [4/5], Step [400/600], Loss: 0.2339\n",
            "Epoch [4/5], Step [500/600], Loss: 0.3415\n",
            "Epoch [4/5], Step [600/600], Loss: 0.4265\n",
            "Epoch [5/5], Step [100/600], Loss: 0.3631\n",
            "Epoch [5/5], Step [200/600], Loss: 0.3039\n",
            "Epoch [5/5], Step [300/600], Loss: 0.3475\n",
            "Epoch [5/5], Step [400/600], Loss: 0.3317\n",
            "Epoch [5/5], Step [500/600], Loss: 0.3669\n",
            "Epoch [5/5], Step [600/600], Loss: 0.3208\n",
            "\n",
            "Test accuracy on dataset:\n",
            "Test Accuracy: 86.04%\n",
            "Thời gian chạy: 51.28087115287781 giây\n"
          ]
        }
      ],
      "source": [
        "run = run_model_one_hidden_size(100, fashion_mnist_train_data, fashion_mnist_test_data)"
      ]
    },
    {
      "cell_type": "code",
      "execution_count": null,
      "metadata": {
        "colab": {
          "base_uri": "https://localhost:8080/"
        },
        "id": "jTjygpAsaT3m",
        "outputId": "f8558ee4-3884-4dbc-faf6-adf23fc84444"
      },
      "outputs": [
        {
          "name": "stdout",
          "output_type": "stream",
          "text": [
            "Training on dataset...\n",
            "Epoch [1/5], Step [100/600], Loss: 0.4966\n",
            "Epoch [1/5], Step [200/600], Loss: 0.3811\n",
            "Epoch [1/5], Step [300/600], Loss: 0.6893\n",
            "Epoch [1/5], Step [400/600], Loss: 0.4539\n",
            "Epoch [1/5], Step [500/600], Loss: 0.3509\n",
            "Epoch [1/5], Step [600/600], Loss: 0.4314\n",
            "Epoch [2/5], Step [100/600], Loss: 0.5748\n",
            "Epoch [2/5], Step [200/600], Loss: 0.4241\n",
            "Epoch [2/5], Step [300/600], Loss: 0.3864\n",
            "Epoch [2/5], Step [400/600], Loss: 0.3354\n",
            "Epoch [2/5], Step [500/600], Loss: 0.3913\n",
            "Epoch [2/5], Step [600/600], Loss: 0.3710\n",
            "Epoch [3/5], Step [100/600], Loss: 0.3028\n",
            "Epoch [3/5], Step [200/600], Loss: 0.4104\n",
            "Epoch [3/5], Step [300/600], Loss: 0.2798\n",
            "Epoch [3/5], Step [400/600], Loss: 0.3226\n",
            "Epoch [3/5], Step [500/600], Loss: 0.2902\n",
            "Epoch [3/5], Step [600/600], Loss: 0.3051\n",
            "Epoch [4/5], Step [100/600], Loss: 0.2763\n",
            "Epoch [4/5], Step [200/600], Loss: 0.3173\n",
            "Epoch [4/5], Step [300/600], Loss: 0.3328\n",
            "Epoch [4/5], Step [400/600], Loss: 0.4096\n",
            "Epoch [4/5], Step [500/600], Loss: 0.4300\n",
            "Epoch [4/5], Step [600/600], Loss: 0.3086\n",
            "Epoch [5/5], Step [100/600], Loss: 0.3397\n",
            "Epoch [5/5], Step [200/600], Loss: 0.1923\n",
            "Epoch [5/5], Step [300/600], Loss: 0.2149\n",
            "Epoch [5/5], Step [400/600], Loss: 0.3374\n",
            "Epoch [5/5], Step [500/600], Loss: 0.3587\n",
            "Epoch [5/5], Step [600/600], Loss: 0.3667\n",
            "\n",
            "Test accuracy on dataset:\n",
            "Test Accuracy: 87.11%\n",
            "Thời gian chạy: 76.88973808288574 giây\n"
          ]
        }
      ],
      "source": [
        "run = run_model_one_hidden_size(500, fashion_mnist_train_data, fashion_mnist_test_data)"
      ]
    },
    {
      "cell_type": "code",
      "execution_count": null,
      "metadata": {
        "colab": {
          "base_uri": "https://localhost:8080/"
        },
        "id": "GOEMnRJcbCdN",
        "outputId": "32266157-a78b-42bd-dfaf-b66f2d5d6694"
      },
      "outputs": [
        {
          "name": "stdout",
          "output_type": "stream",
          "text": [
            "Training on dataset...\n",
            "Epoch [1/5], Step [100/600], Loss: 0.5986\n",
            "Epoch [1/5], Step [200/600], Loss: 0.4281\n",
            "Epoch [1/5], Step [300/600], Loss: 0.4199\n",
            "Epoch [1/5], Step [400/600], Loss: 0.3539\n",
            "Epoch [1/5], Step [500/600], Loss: 0.3251\n",
            "Epoch [1/5], Step [600/600], Loss: 0.4041\n",
            "Epoch [2/5], Step [100/600], Loss: 0.4327\n",
            "Epoch [2/5], Step [200/600], Loss: 0.4886\n",
            "Epoch [2/5], Step [300/600], Loss: 0.2622\n",
            "Epoch [2/5], Step [400/600], Loss: 0.3085\n",
            "Epoch [2/5], Step [500/600], Loss: 0.4075\n",
            "Epoch [2/5], Step [600/600], Loss: 0.3854\n",
            "Epoch [3/5], Step [100/600], Loss: 0.3643\n",
            "Epoch [3/5], Step [200/600], Loss: 0.4091\n",
            "Epoch [3/5], Step [300/600], Loss: 0.2878\n",
            "Epoch [3/5], Step [400/600], Loss: 0.2426\n",
            "Epoch [3/5], Step [500/600], Loss: 0.1418\n",
            "Epoch [3/5], Step [600/600], Loss: 0.3329\n",
            "Epoch [4/5], Step [100/600], Loss: 0.3865\n",
            "Epoch [4/5], Step [200/600], Loss: 0.3023\n",
            "Epoch [4/5], Step [300/600], Loss: 0.2888\n",
            "Epoch [4/5], Step [400/600], Loss: 0.2322\n",
            "Epoch [4/5], Step [500/600], Loss: 0.2930\n",
            "Epoch [4/5], Step [600/600], Loss: 0.3590\n",
            "Epoch [5/5], Step [100/600], Loss: 0.3310\n",
            "Epoch [5/5], Step [200/600], Loss: 0.1548\n",
            "Epoch [5/5], Step [300/600], Loss: 0.3436\n",
            "Epoch [5/5], Step [400/600], Loss: 0.1866\n",
            "Epoch [5/5], Step [500/600], Loss: 0.2866\n",
            "Epoch [5/5], Step [600/600], Loss: 0.2408\n",
            "\n",
            "Test accuracy on dataset:\n",
            "Test Accuracy: 87.61%\n",
            "Thời gian chạy: 75.68089509010315 giây\n"
          ]
        }
      ],
      "source": [
        "run = run_model_one_hidden_size(700, fashion_mnist_train_data, fashion_mnist_test_data)"
      ]
    },
    {
      "cell_type": "code",
      "execution_count": null,
      "metadata": {
        "colab": {
          "base_uri": "https://localhost:8080/"
        },
        "id": "pMddWk3AbErL",
        "outputId": "07072ae9-5624-4386-8642-02690abfc743"
      },
      "outputs": [
        {
          "name": "stdout",
          "output_type": "stream",
          "text": [
            "Training on dataset...\n",
            "Epoch [1/5], Step [100/600], Loss: 1.3583\n",
            "Epoch [1/5], Step [200/600], Loss: 1.0657\n",
            "Epoch [1/5], Step [300/600], Loss: 0.9372\n",
            "Epoch [1/5], Step [400/600], Loss: 0.8259\n",
            "Epoch [1/5], Step [500/600], Loss: 0.6676\n",
            "Epoch [1/5], Step [600/600], Loss: 0.7661\n",
            "Epoch [2/5], Step [100/600], Loss: 0.6462\n",
            "Epoch [2/5], Step [200/600], Loss: 0.7662\n",
            "Epoch [2/5], Step [300/600], Loss: 0.8950\n",
            "Epoch [2/5], Step [400/600], Loss: 0.7650\n",
            "Epoch [2/5], Step [500/600], Loss: 0.7962\n",
            "Epoch [2/5], Step [600/600], Loss: 0.7862\n",
            "Epoch [3/5], Step [100/600], Loss: 0.6970\n",
            "Epoch [3/5], Step [200/600], Loss: 0.5935\n",
            "Epoch [3/5], Step [300/600], Loss: 0.7829\n",
            "Epoch [3/5], Step [400/600], Loss: 0.7142\n",
            "Epoch [3/5], Step [500/600], Loss: 0.6215\n",
            "Epoch [3/5], Step [600/600], Loss: 0.5991\n",
            "Epoch [4/5], Step [100/600], Loss: 0.5566\n",
            "Epoch [4/5], Step [200/600], Loss: 0.4926\n",
            "Epoch [4/5], Step [300/600], Loss: 0.5790\n",
            "Epoch [4/5], Step [400/600], Loss: 0.7076\n",
            "Epoch [4/5], Step [500/600], Loss: 0.6533\n",
            "Epoch [4/5], Step [600/600], Loss: 0.6591\n",
            "Epoch [5/5], Step [100/600], Loss: 0.7077\n",
            "Epoch [5/5], Step [200/600], Loss: 0.6743\n",
            "Epoch [5/5], Step [300/600], Loss: 0.5715\n",
            "Epoch [5/5], Step [400/600], Loss: 0.6868\n",
            "Epoch [5/5], Step [500/600], Loss: 0.6664\n",
            "Epoch [5/5], Step [600/600], Loss: 0.6609\n",
            "\n",
            "Test accuracy on dataset:\n",
            "Test Accuracy: 77.15%\n",
            "Thời gian chạy: 7.6411004066467285 giây\n"
          ]
        }
      ],
      "source": [
        "run = run_model_feature_one_hidden_size(100, fashion_mnist_train_data, fashion_mnist_test_data, True)"
      ]
    },
    {
      "cell_type": "code",
      "execution_count": null,
      "metadata": {
        "colab": {
          "base_uri": "https://localhost:8080/"
        },
        "id": "qtCV70mobQCN",
        "outputId": "1245c3bf-ddb9-4ba5-fdc2-3597806bfd82"
      },
      "outputs": [
        {
          "name": "stdout",
          "output_type": "stream",
          "text": [
            "Training on dataset...\n",
            "Epoch [1/5], Step [100/600], Loss: 1.0216\n",
            "Epoch [1/5], Step [200/600], Loss: 0.9570\n",
            "Epoch [1/5], Step [300/600], Loss: 0.6637\n",
            "Epoch [1/5], Step [400/600], Loss: 0.5643\n",
            "Epoch [1/5], Step [500/600], Loss: 0.6814\n",
            "Epoch [1/5], Step [600/600], Loss: 0.6344\n",
            "Epoch [2/5], Step [100/600], Loss: 0.7175\n",
            "Epoch [2/5], Step [200/600], Loss: 0.7135\n",
            "Epoch [2/5], Step [300/600], Loss: 0.6280\n",
            "Epoch [2/5], Step [400/600], Loss: 0.6415\n",
            "Epoch [2/5], Step [500/600], Loss: 0.7608\n",
            "Epoch [2/5], Step [600/600], Loss: 0.6743\n",
            "Epoch [3/5], Step [100/600], Loss: 0.7103\n",
            "Epoch [3/5], Step [200/600], Loss: 0.7157\n",
            "Epoch [3/5], Step [300/600], Loss: 0.6635\n",
            "Epoch [3/5], Step [400/600], Loss: 0.6635\n",
            "Epoch [3/5], Step [500/600], Loss: 0.6081\n",
            "Epoch [3/5], Step [600/600], Loss: 0.6550\n",
            "Epoch [4/5], Step [100/600], Loss: 0.6188\n",
            "Epoch [4/5], Step [200/600], Loss: 0.6578\n",
            "Epoch [4/5], Step [300/600], Loss: 0.6454\n",
            "Epoch [4/5], Step [400/600], Loss: 0.4457\n",
            "Epoch [4/5], Step [500/600], Loss: 0.6540\n",
            "Epoch [4/5], Step [600/600], Loss: 0.5480\n",
            "Epoch [5/5], Step [100/600], Loss: 0.6392\n",
            "Epoch [5/5], Step [200/600], Loss: 0.4493\n",
            "Epoch [5/5], Step [300/600], Loss: 0.5605\n",
            "Epoch [5/5], Step [400/600], Loss: 0.6060\n",
            "Epoch [5/5], Step [500/600], Loss: 0.7176\n",
            "Epoch [5/5], Step [600/600], Loss: 0.5276\n",
            "\n",
            "Test accuracy on dataset:\n",
            "Test Accuracy: 78.81%\n",
            "Thời gian chạy: 12.072326183319092 giây\n"
          ]
        }
      ],
      "source": [
        "run = run_model_feature_one_hidden_size(500, fashion_mnist_train_data, fashion_mnist_test_data, True)"
      ]
    },
    {
      "cell_type": "code",
      "execution_count": null,
      "metadata": {
        "colab": {
          "base_uri": "https://localhost:8080/"
        },
        "id": "0__VwrUtbScP",
        "outputId": "17a1cc03-6b24-4bd6-be53-704c9228392f"
      },
      "outputs": [
        {
          "name": "stdout",
          "output_type": "stream",
          "text": [
            "Training on dataset...\n",
            "Epoch [1/5], Step [100/600], Loss: 0.9947\n",
            "Epoch [1/5], Step [200/600], Loss: 0.6729\n",
            "Epoch [1/5], Step [300/600], Loss: 0.7658\n",
            "Epoch [1/5], Step [400/600], Loss: 0.7699\n",
            "Epoch [1/5], Step [500/600], Loss: 0.6877\n",
            "Epoch [1/5], Step [600/600], Loss: 0.7994\n",
            "Epoch [2/5], Step [100/600], Loss: 0.5651\n",
            "Epoch [2/5], Step [200/600], Loss: 0.7284\n",
            "Epoch [2/5], Step [300/600], Loss: 0.6370\n",
            "Epoch [2/5], Step [400/600], Loss: 0.5884\n",
            "Epoch [2/5], Step [500/600], Loss: 0.5155\n",
            "Epoch [2/5], Step [600/600], Loss: 0.5781\n",
            "Epoch [3/5], Step [100/600], Loss: 0.5811\n",
            "Epoch [3/5], Step [200/600], Loss: 0.7031\n",
            "Epoch [3/5], Step [300/600], Loss: 0.7139\n",
            "Epoch [3/5], Step [400/600], Loss: 0.5975\n",
            "Epoch [3/5], Step [500/600], Loss: 0.4548\n",
            "Epoch [3/5], Step [600/600], Loss: 0.5506\n",
            "Epoch [4/5], Step [100/600], Loss: 0.6094\n",
            "Epoch [4/5], Step [200/600], Loss: 0.6833\n",
            "Epoch [4/5], Step [300/600], Loss: 0.5500\n",
            "Epoch [4/5], Step [400/600], Loss: 0.5348\n",
            "Epoch [4/5], Step [500/600], Loss: 0.6134\n",
            "Epoch [4/5], Step [600/600], Loss: 0.5889\n",
            "Epoch [5/5], Step [100/600], Loss: 0.5601\n",
            "Epoch [5/5], Step [200/600], Loss: 0.5183\n",
            "Epoch [5/5], Step [300/600], Loss: 0.4143\n",
            "Epoch [5/5], Step [400/600], Loss: 0.6232\n",
            "Epoch [5/5], Step [500/600], Loss: 0.5360\n",
            "Epoch [5/5], Step [600/600], Loss: 0.5449\n",
            "\n",
            "Test accuracy on dataset:\n",
            "Test Accuracy: 79.33%\n",
            "Thời gian chạy: 13.899996519088745 giây\n"
          ]
        }
      ],
      "source": [
        "run = run_model_feature_one_hidden_size(700, fashion_mnist_train_data, fashion_mnist_test_data, True)"
      ]
    },
    {
      "cell_type": "code",
      "execution_count": null,
      "metadata": {
        "colab": {
          "base_uri": "https://localhost:8080/"
        },
        "id": "qVLhOuF5bUN5",
        "outputId": "b8d16c9b-ee57-41cf-f085-90620ab21f34"
      },
      "outputs": [
        {
          "name": "stdout",
          "output_type": "stream",
          "text": [
            "Training on dataset...\n",
            "Epoch [1/5], Step [100/600], Loss: 0.5673\n",
            "Epoch [1/5], Step [200/600], Loss: 0.6459\n",
            "Epoch [1/5], Step [300/600], Loss: 0.7025\n",
            "Epoch [1/5], Step [400/600], Loss: 0.4723\n",
            "Epoch [1/5], Step [500/600], Loss: 0.4604\n",
            "Epoch [1/5], Step [600/600], Loss: 0.3975\n",
            "Epoch [2/5], Step [100/600], Loss: 0.5813\n",
            "Epoch [2/5], Step [200/600], Loss: 0.3955\n",
            "Epoch [2/5], Step [300/600], Loss: 0.3770\n",
            "Epoch [2/5], Step [400/600], Loss: 0.3955\n",
            "Epoch [2/5], Step [500/600], Loss: 0.4073\n",
            "Epoch [2/5], Step [600/600], Loss: 0.4419\n",
            "Epoch [3/5], Step [100/600], Loss: 0.4069\n",
            "Epoch [3/5], Step [200/600], Loss: 0.3514\n",
            "Epoch [3/5], Step [300/600], Loss: 0.4735\n",
            "Epoch [3/5], Step [400/600], Loss: 0.3282\n",
            "Epoch [3/5], Step [500/600], Loss: 0.3564\n",
            "Epoch [3/5], Step [600/600], Loss: 0.3713\n",
            "Epoch [4/5], Step [100/600], Loss: 0.3086\n",
            "Epoch [4/5], Step [200/600], Loss: 0.3055\n",
            "Epoch [4/5], Step [300/600], Loss: 0.3837\n",
            "Epoch [4/5], Step [400/600], Loss: 0.2606\n",
            "Epoch [4/5], Step [500/600], Loss: 0.3717\n",
            "Epoch [4/5], Step [600/600], Loss: 0.2520\n",
            "Epoch [5/5], Step [100/600], Loss: 0.3920\n",
            "Epoch [5/5], Step [200/600], Loss: 0.3948\n",
            "Epoch [5/5], Step [300/600], Loss: 0.2404\n",
            "Epoch [5/5], Step [400/600], Loss: 0.4373\n",
            "Epoch [5/5], Step [500/600], Loss: 0.3776\n",
            "Epoch [5/5], Step [600/600], Loss: 0.3441\n",
            "\n",
            "Test accuracy on dataset:\n",
            "Test Accuracy: 86.71%\n",
            "Thời gian chạy: 60.968914270401 giây\n"
          ]
        }
      ],
      "source": [
        "run = run_model_two_hidden_size(100, 100, fashion_mnist_train_data, fashion_mnist_test_data)"
      ]
    },
    {
      "cell_type": "code",
      "execution_count": null,
      "metadata": {
        "colab": {
          "base_uri": "https://localhost:8080/"
        },
        "id": "7qSHIRonbugi",
        "outputId": "9c8eb577-c110-4fb8-fac0-1bfed00457cf"
      },
      "outputs": [
        {
          "name": "stdout",
          "output_type": "stream",
          "text": [
            "Training on dataset...\n",
            "Epoch [1/5], Step [100/600], Loss: 0.7943\n",
            "Epoch [1/5], Step [200/600], Loss: 0.5722\n",
            "Epoch [1/5], Step [300/600], Loss: 0.4545\n",
            "Epoch [1/5], Step [400/600], Loss: 0.5187\n",
            "Epoch [1/5], Step [500/600], Loss: 0.3510\n",
            "Epoch [1/5], Step [600/600], Loss: 0.2682\n",
            "Epoch [2/5], Step [100/600], Loss: 0.3583\n",
            "Epoch [2/5], Step [200/600], Loss: 0.3307\n",
            "Epoch [2/5], Step [300/600], Loss: 0.3653\n",
            "Epoch [2/5], Step [400/600], Loss: 0.3631\n",
            "Epoch [2/5], Step [500/600], Loss: 0.4665\n",
            "Epoch [2/5], Step [600/600], Loss: 0.3258\n",
            "Epoch [3/5], Step [100/600], Loss: 0.3067\n",
            "Epoch [3/5], Step [200/600], Loss: 0.4817\n",
            "Epoch [3/5], Step [300/600], Loss: 0.3170\n",
            "Epoch [3/5], Step [400/600], Loss: 0.3423\n",
            "Epoch [3/5], Step [500/600], Loss: 0.3542\n",
            "Epoch [3/5], Step [600/600], Loss: 0.3387\n",
            "Epoch [4/5], Step [100/600], Loss: 0.4385\n",
            "Epoch [4/5], Step [200/600], Loss: 0.2239\n",
            "Epoch [4/5], Step [300/600], Loss: 0.2270\n",
            "Epoch [4/5], Step [400/600], Loss: 0.3098\n",
            "Epoch [4/5], Step [500/600], Loss: 0.3435\n",
            "Epoch [4/5], Step [600/600], Loss: 0.3788\n",
            "Epoch [5/5], Step [100/600], Loss: 0.3550\n",
            "Epoch [5/5], Step [200/600], Loss: 0.3649\n",
            "Epoch [5/5], Step [300/600], Loss: 0.2455\n",
            "Epoch [5/5], Step [400/600], Loss: 0.2445\n",
            "Epoch [5/5], Step [500/600], Loss: 0.2919\n",
            "Epoch [5/5], Step [600/600], Loss: 0.2845\n",
            "\n",
            "Test accuracy on dataset:\n",
            "Test Accuracy: 87.76%\n",
            "Thời gian chạy: 60.663562536239624 giây\n"
          ]
        }
      ],
      "source": [
        "run = run_model_two_hidden_size(100, 500, fashion_mnist_train_data, fashion_mnist_test_data)"
      ]
    },
    {
      "cell_type": "code",
      "execution_count": null,
      "metadata": {
        "colab": {
          "base_uri": "https://localhost:8080/"
        },
        "id": "_LP3GkSwbxJV",
        "outputId": "67af731c-eafe-4d83-bb9c-2de7ba55f07a"
      },
      "outputs": [
        {
          "name": "stdout",
          "output_type": "stream",
          "text": [
            "Training on dataset...\n",
            "Epoch [1/5], Step [100/600], Loss: 0.5398\n",
            "Epoch [1/5], Step [200/600], Loss: 0.6134\n",
            "Epoch [1/5], Step [300/600], Loss: 0.4168\n",
            "Epoch [1/5], Step [400/600], Loss: 0.2995\n",
            "Epoch [1/5], Step [500/600], Loss: 0.4726\n",
            "Epoch [1/5], Step [600/600], Loss: 0.4499\n",
            "Epoch [2/5], Step [100/600], Loss: 0.2562\n",
            "Epoch [2/5], Step [200/600], Loss: 0.2501\n",
            "Epoch [2/5], Step [300/600], Loss: 0.3760\n",
            "Epoch [2/5], Step [400/600], Loss: 0.2982\n",
            "Epoch [2/5], Step [500/600], Loss: 0.5878\n",
            "Epoch [2/5], Step [600/600], Loss: 0.3267\n",
            "Epoch [3/5], Step [100/600], Loss: 0.3380\n",
            "Epoch [3/5], Step [200/600], Loss: 0.2555\n",
            "Epoch [3/5], Step [300/600], Loss: 0.2826\n",
            "Epoch [3/5], Step [400/600], Loss: 0.2783\n",
            "Epoch [3/5], Step [500/600], Loss: 0.2716\n",
            "Epoch [3/5], Step [600/600], Loss: 0.2377\n",
            "Epoch [4/5], Step [100/600], Loss: 0.3428\n",
            "Epoch [4/5], Step [200/600], Loss: 0.3532\n",
            "Epoch [4/5], Step [300/600], Loss: 0.2151\n",
            "Epoch [4/5], Step [400/600], Loss: 0.2136\n",
            "Epoch [4/5], Step [500/600], Loss: 0.2250\n",
            "Epoch [4/5], Step [600/600], Loss: 0.2788\n",
            "Epoch [5/5], Step [100/600], Loss: 0.3382\n",
            "Epoch [5/5], Step [200/600], Loss: 0.3533\n",
            "Epoch [5/5], Step [300/600], Loss: 0.2059\n",
            "Epoch [5/5], Step [400/600], Loss: 0.2460\n",
            "Epoch [5/5], Step [500/600], Loss: 0.3136\n",
            "Epoch [5/5], Step [600/600], Loss: 0.1687\n",
            "\n",
            "Test accuracy on dataset:\n",
            "Test Accuracy: 87.62%\n",
            "Thời gian chạy: 67.51770067214966 giây\n"
          ]
        }
      ],
      "source": [
        "run = run_model_two_hidden_size(100, 700, fashion_mnist_train_data, fashion_mnist_test_data)"
      ]
    },
    {
      "cell_type": "code",
      "execution_count": null,
      "metadata": {
        "colab": {
          "base_uri": "https://localhost:8080/"
        },
        "id": "qLsaiTwIbyiw",
        "outputId": "f01ea1cc-33cb-4788-8f90-f1efecad5484"
      },
      "outputs": [
        {
          "name": "stdout",
          "output_type": "stream",
          "text": [
            "Training on dataset...\n",
            "Epoch [1/5], Step [100/600], Loss: 0.5063\n",
            "Epoch [1/5], Step [200/600], Loss: 0.5741\n",
            "Epoch [1/5], Step [300/600], Loss: 0.4269\n",
            "Epoch [1/5], Step [400/600], Loss: 0.4146\n",
            "Epoch [1/5], Step [500/600], Loss: 0.3944\n",
            "Epoch [1/5], Step [600/600], Loss: 0.3618\n",
            "Epoch [2/5], Step [100/600], Loss: 0.3522\n",
            "Epoch [2/5], Step [200/600], Loss: 0.3867\n",
            "Epoch [2/5], Step [300/600], Loss: 0.2622\n",
            "Epoch [2/5], Step [400/600], Loss: 0.4232\n",
            "Epoch [2/5], Step [500/600], Loss: 0.2550\n",
            "Epoch [2/5], Step [600/600], Loss: 0.3415\n",
            "Epoch [3/5], Step [100/600], Loss: 0.4248\n",
            "Epoch [3/5], Step [200/600], Loss: 0.2967\n",
            "Epoch [3/5], Step [300/600], Loss: 0.2646\n",
            "Epoch [3/5], Step [400/600], Loss: 0.3191\n",
            "Epoch [3/5], Step [500/600], Loss: 0.2298\n",
            "Epoch [3/5], Step [600/600], Loss: 0.3294\n",
            "Epoch [4/5], Step [100/600], Loss: 0.2464\n",
            "Epoch [4/5], Step [200/600], Loss: 0.3086\n",
            "Epoch [4/5], Step [300/600], Loss: 0.2795\n",
            "Epoch [4/5], Step [400/600], Loss: 0.3025\n",
            "Epoch [4/5], Step [500/600], Loss: 0.2452\n",
            "Epoch [4/5], Step [600/600], Loss: 0.2466\n",
            "Epoch [5/5], Step [100/600], Loss: 0.2855\n",
            "Epoch [5/5], Step [200/600], Loss: 0.3656\n",
            "Epoch [5/5], Step [300/600], Loss: 0.3341\n",
            "Epoch [5/5], Step [400/600], Loss: 0.2882\n",
            "Epoch [5/5], Step [500/600], Loss: 0.1839\n",
            "Epoch [5/5], Step [600/600], Loss: 0.1720\n",
            "\n",
            "Test accuracy on dataset:\n",
            "Test Accuracy: 87.77%\n",
            "Thời gian chạy: 80.26389336585999 giây\n"
          ]
        }
      ],
      "source": [
        "run = run_model_two_hidden_size(500, 100, fashion_mnist_train_data, fashion_mnist_test_data)"
      ]
    },
    {
      "cell_type": "code",
      "execution_count": null,
      "metadata": {
        "colab": {
          "base_uri": "https://localhost:8080/"
        },
        "id": "TPTHVR1Cb3ZT",
        "outputId": "b9a2fab2-07d2-4b29-a71f-b6b9f547ba5e"
      },
      "outputs": [
        {
          "name": "stdout",
          "output_type": "stream",
          "text": [
            "Training on dataset...\n",
            "Epoch [1/5], Step [100/600], Loss: 0.6938\n",
            "Epoch [1/5], Step [200/600], Loss: 0.5318\n",
            "Epoch [1/5], Step [300/600], Loss: 0.5932\n",
            "Epoch [1/5], Step [400/600], Loss: 0.5006\n",
            "Epoch [1/5], Step [500/600], Loss: 0.3390\n",
            "Epoch [1/5], Step [600/600], Loss: 0.2914\n",
            "Epoch [2/5], Step [100/600], Loss: 0.4274\n",
            "Epoch [2/5], Step [200/600], Loss: 0.4811\n",
            "Epoch [2/5], Step [300/600], Loss: 0.3621\n",
            "Epoch [2/5], Step [400/600], Loss: 0.2946\n",
            "Epoch [2/5], Step [500/600], Loss: 0.3938\n",
            "Epoch [2/5], Step [600/600], Loss: 0.3453\n",
            "Epoch [3/5], Step [100/600], Loss: 0.2465\n",
            "Epoch [3/5], Step [200/600], Loss: 0.2521\n",
            "Epoch [3/5], Step [300/600], Loss: 0.2600\n",
            "Epoch [3/5], Step [400/600], Loss: 0.3316\n",
            "Epoch [3/5], Step [500/600], Loss: 0.2747\n",
            "Epoch [3/5], Step [600/600], Loss: 0.3710\n",
            "Epoch [4/5], Step [100/600], Loss: 0.4492\n",
            "Epoch [4/5], Step [200/600], Loss: 0.3370\n",
            "Epoch [4/5], Step [300/600], Loss: 0.2952\n",
            "Epoch [4/5], Step [400/600], Loss: 0.3204\n",
            "Epoch [4/5], Step [500/600], Loss: 0.2481\n",
            "Epoch [4/5], Step [600/600], Loss: 0.2181\n",
            "Epoch [5/5], Step [100/600], Loss: 0.4484\n",
            "Epoch [5/5], Step [200/600], Loss: 0.3032\n",
            "Epoch [5/5], Step [300/600], Loss: 0.2883\n",
            "Epoch [5/5], Step [400/600], Loss: 0.2333\n",
            "Epoch [5/5], Step [500/600], Loss: 0.2653\n",
            "Epoch [5/5], Step [600/600], Loss: 0.2305\n",
            "\n",
            "Test accuracy on dataset:\n",
            "Test Accuracy: 87.27%\n",
            "Thời gian chạy: 86.28242206573486 giây\n"
          ]
        }
      ],
      "source": [
        "run = run_model_two_hidden_size(500, 500, fashion_mnist_train_data, fashion_mnist_test_data)"
      ]
    },
    {
      "cell_type": "code",
      "execution_count": null,
      "metadata": {
        "colab": {
          "base_uri": "https://localhost:8080/"
        },
        "id": "lJYLTo5eb5Ue",
        "outputId": "2e7decb3-afbf-45e4-dfe4-15e4ae9b139f"
      },
      "outputs": [
        {
          "name": "stdout",
          "output_type": "stream",
          "text": [
            "Training on dataset...\n",
            "Epoch [1/5], Step [100/600], Loss: 0.5369\n",
            "Epoch [1/5], Step [200/600], Loss: 0.4701\n",
            "Epoch [1/5], Step [300/600], Loss: 0.2614\n",
            "Epoch [1/5], Step [400/600], Loss: 0.3426\n",
            "Epoch [1/5], Step [500/600], Loss: 0.3031\n",
            "Epoch [1/5], Step [600/600], Loss: 0.4510\n",
            "Epoch [2/5], Step [100/600], Loss: 0.3007\n",
            "Epoch [2/5], Step [200/600], Loss: 0.3125\n",
            "Epoch [2/5], Step [300/600], Loss: 0.3487\n",
            "Epoch [2/5], Step [400/600], Loss: 0.3830\n",
            "Epoch [2/5], Step [500/600], Loss: 0.2584\n",
            "Epoch [2/5], Step [600/600], Loss: 0.2914\n",
            "Epoch [3/5], Step [100/600], Loss: 0.3529\n",
            "Epoch [3/5], Step [200/600], Loss: 0.4123\n",
            "Epoch [3/5], Step [300/600], Loss: 0.2880\n",
            "Epoch [3/5], Step [400/600], Loss: 0.2404\n",
            "Epoch [3/5], Step [500/600], Loss: 0.3701\n",
            "Epoch [3/5], Step [600/600], Loss: 0.3455\n",
            "Epoch [4/5], Step [100/600], Loss: 0.2430\n",
            "Epoch [4/5], Step [200/600], Loss: 0.2133\n",
            "Epoch [4/5], Step [300/600], Loss: 0.2502\n",
            "Epoch [4/5], Step [400/600], Loss: 0.3656\n",
            "Epoch [4/5], Step [500/600], Loss: 0.2744\n",
            "Epoch [4/5], Step [600/600], Loss: 0.3048\n",
            "Epoch [5/5], Step [100/600], Loss: 0.2099\n",
            "Epoch [5/5], Step [200/600], Loss: 0.2400\n",
            "Epoch [5/5], Step [300/600], Loss: 0.3396\n",
            "Epoch [5/5], Step [400/600], Loss: 0.1848\n",
            "Epoch [5/5], Step [500/600], Loss: 0.2439\n",
            "Epoch [5/5], Step [600/600], Loss: 0.3532\n",
            "\n",
            "Test accuracy on dataset:\n",
            "Test Accuracy: 88.03%\n",
            "Thời gian chạy: 93.86353325843811 giây\n"
          ]
        }
      ],
      "source": [
        "run = run_model_two_hidden_size(500, 700, fashion_mnist_train_data, fashion_mnist_test_data)"
      ]
    },
    {
      "cell_type": "code",
      "execution_count": null,
      "metadata": {
        "colab": {
          "base_uri": "https://localhost:8080/"
        },
        "id": "5tqLayKXb7dN",
        "outputId": "cbd2c176-bc4f-4b87-ca1e-ba4bf62479d0"
      },
      "outputs": [
        {
          "name": "stdout",
          "output_type": "stream",
          "text": [
            "Training on dataset...\n",
            "Epoch [1/5], Step [100/600], Loss: 0.6119\n",
            "Epoch [1/5], Step [200/600], Loss: 0.5336\n",
            "Epoch [1/5], Step [300/600], Loss: 0.5977\n",
            "Epoch [1/5], Step [400/600], Loss: 0.3864\n",
            "Epoch [1/5], Step [500/600], Loss: 0.5212\n",
            "Epoch [1/5], Step [600/600], Loss: 0.5762\n",
            "Epoch [2/5], Step [100/600], Loss: 0.2627\n",
            "Epoch [2/5], Step [200/600], Loss: 0.4679\n",
            "Epoch [2/5], Step [300/600], Loss: 0.3743\n",
            "Epoch [2/5], Step [400/600], Loss: 0.4579\n",
            "Epoch [2/5], Step [500/600], Loss: 0.2584\n",
            "Epoch [2/5], Step [600/600], Loss: 0.2595\n",
            "Epoch [3/5], Step [100/600], Loss: 0.2997\n",
            "Epoch [3/5], Step [200/600], Loss: 0.3723\n",
            "Epoch [3/5], Step [300/600], Loss: 0.3434\n",
            "Epoch [3/5], Step [400/600], Loss: 0.2710\n",
            "Epoch [3/5], Step [500/600], Loss: 0.2303\n",
            "Epoch [3/5], Step [600/600], Loss: 0.3046\n",
            "Epoch [4/5], Step [100/600], Loss: 0.3243\n",
            "Epoch [4/5], Step [200/600], Loss: 0.1886\n",
            "Epoch [4/5], Step [300/600], Loss: 0.2415\n",
            "Epoch [4/5], Step [400/600], Loss: 0.3497\n",
            "Epoch [4/5], Step [500/600], Loss: 0.3427\n",
            "Epoch [4/5], Step [600/600], Loss: 0.3016\n",
            "Epoch [5/5], Step [100/600], Loss: 0.3011\n",
            "Epoch [5/5], Step [200/600], Loss: 0.2752\n",
            "Epoch [5/5], Step [300/600], Loss: 0.3836\n",
            "Epoch [5/5], Step [400/600], Loss: 0.3758\n",
            "Epoch [5/5], Step [500/600], Loss: 0.3052\n",
            "Epoch [5/5], Step [600/600], Loss: 0.3122\n",
            "\n",
            "Test accuracy on dataset:\n",
            "Test Accuracy: 88.29%\n",
            "Thời gian chạy: 80.428142786026 giây\n"
          ]
        }
      ],
      "source": [
        "run = run_model_two_hidden_size(700, 100, fashion_mnist_train_data, fashion_mnist_test_data)"
      ]
    },
    {
      "cell_type": "code",
      "execution_count": null,
      "metadata": {
        "colab": {
          "base_uri": "https://localhost:8080/"
        },
        "id": "PNX8majIb9te",
        "outputId": "bbb16731-16eb-4bc9-9d99-4f20b944e04c"
      },
      "outputs": [
        {
          "name": "stdout",
          "output_type": "stream",
          "text": [
            "Training on dataset...\n",
            "Epoch [1/5], Step [100/600], Loss: 0.4396\n",
            "Epoch [1/5], Step [200/600], Loss: 0.5612\n",
            "Epoch [1/5], Step [300/600], Loss: 0.3782\n",
            "Epoch [1/5], Step [400/600], Loss: 0.4537\n",
            "Epoch [1/5], Step [500/600], Loss: 0.3985\n",
            "Epoch [1/5], Step [600/600], Loss: 0.5054\n",
            "Epoch [2/5], Step [100/600], Loss: 0.6651\n",
            "Epoch [2/5], Step [200/600], Loss: 0.3704\n",
            "Epoch [2/5], Step [300/600], Loss: 0.5100\n",
            "Epoch [2/5], Step [400/600], Loss: 0.3467\n",
            "Epoch [2/5], Step [500/600], Loss: 0.3879\n",
            "Epoch [2/5], Step [600/600], Loss: 0.4633\n",
            "Epoch [3/5], Step [100/600], Loss: 0.2806\n",
            "Epoch [3/5], Step [200/600], Loss: 0.3632\n",
            "Epoch [3/5], Step [300/600], Loss: 0.4136\n",
            "Epoch [3/5], Step [400/600], Loss: 0.2191\n",
            "Epoch [3/5], Step [500/600], Loss: 0.4411\n",
            "Epoch [3/5], Step [600/600], Loss: 0.4151\n",
            "Epoch [4/5], Step [100/600], Loss: 0.2523\n",
            "Epoch [4/5], Step [200/600], Loss: 0.4112\n",
            "Epoch [4/5], Step [300/600], Loss: 0.3399\n",
            "Epoch [4/5], Step [400/600], Loss: 0.4219\n",
            "Epoch [4/5], Step [500/600], Loss: 0.3769\n",
            "Epoch [4/5], Step [600/600], Loss: 0.3755\n",
            "Epoch [5/5], Step [100/600], Loss: 0.3080\n",
            "Epoch [5/5], Step [200/600], Loss: 0.3374\n",
            "Epoch [5/5], Step [300/600], Loss: 0.3546\n",
            "Epoch [5/5], Step [400/600], Loss: 0.3026\n",
            "Epoch [5/5], Step [500/600], Loss: 0.2380\n",
            "Epoch [5/5], Step [600/600], Loss: 0.2835\n",
            "\n",
            "Test accuracy on dataset:\n",
            "Test Accuracy: 87.92%\n",
            "Thời gian chạy: 102.88712620735168 giây\n"
          ]
        }
      ],
      "source": [
        "run = run_model_two_hidden_size(700, 500, fashion_mnist_train_data, fashion_mnist_test_data)"
      ]
    },
    {
      "cell_type": "code",
      "execution_count": null,
      "metadata": {
        "colab": {
          "base_uri": "https://localhost:8080/"
        },
        "id": "T6NjrAtzb_k7",
        "outputId": "49a6fbb2-d93e-4ed4-fe87-6803b39007a4"
      },
      "outputs": [
        {
          "name": "stdout",
          "output_type": "stream",
          "text": [
            "Training on dataset...\n",
            "Epoch [1/5], Step [100/600], Loss: 0.5262\n",
            "Epoch [1/5], Step [200/600], Loss: 0.5153\n",
            "Epoch [1/5], Step [300/600], Loss: 0.4201\n",
            "Epoch [1/5], Step [400/600], Loss: 0.4398\n",
            "Epoch [1/5], Step [500/600], Loss: 0.3231\n",
            "Epoch [1/5], Step [600/600], Loss: 0.3607\n",
            "Epoch [2/5], Step [100/600], Loss: 0.3213\n",
            "Epoch [2/5], Step [200/600], Loss: 0.3052\n",
            "Epoch [2/5], Step [300/600], Loss: 0.4506\n",
            "Epoch [2/5], Step [400/600], Loss: 0.3344\n",
            "Epoch [2/5], Step [500/600], Loss: 0.2749\n",
            "Epoch [2/5], Step [600/600], Loss: 0.3646\n",
            "Epoch [3/5], Step [100/600], Loss: 0.3659\n",
            "Epoch [3/5], Step [200/600], Loss: 0.2933\n",
            "Epoch [3/5], Step [300/600], Loss: 0.2663\n",
            "Epoch [3/5], Step [400/600], Loss: 0.3100\n",
            "Epoch [3/5], Step [500/600], Loss: 0.3469\n",
            "Epoch [3/5], Step [600/600], Loss: 0.2423\n",
            "Epoch [4/5], Step [100/600], Loss: 0.2985\n",
            "Epoch [4/5], Step [200/600], Loss: 0.2544\n",
            "Epoch [4/5], Step [300/600], Loss: 0.4229\n",
            "Epoch [4/5], Step [400/600], Loss: 0.1688\n",
            "Epoch [4/5], Step [500/600], Loss: 0.2104\n",
            "Epoch [4/5], Step [600/600], Loss: 0.2982\n",
            "Epoch [5/5], Step [100/600], Loss: 0.2690\n",
            "Epoch [5/5], Step [200/600], Loss: 0.3228\n",
            "Epoch [5/5], Step [300/600], Loss: 0.1676\n",
            "Epoch [5/5], Step [400/600], Loss: 0.2457\n",
            "Epoch [5/5], Step [500/600], Loss: 0.3211\n",
            "Epoch [5/5], Step [600/600], Loss: 0.1999\n",
            "\n",
            "Test accuracy on dataset:\n",
            "Test Accuracy: 87.51%\n",
            "Thời gian chạy: 116.50800228118896 giây\n"
          ]
        }
      ],
      "source": [
        "run = run_model_two_hidden_size(700, 700, fashion_mnist_train_data, fashion_mnist_test_data)"
      ]
    },
    {
      "cell_type": "code",
      "execution_count": null,
      "metadata": {
        "colab": {
          "base_uri": "https://localhost:8080/"
        },
        "id": "u1oWqGf-cBqG",
        "outputId": "fae67dbf-4f67-48d5-fe3e-15d53a220332"
      },
      "outputs": [
        {
          "name": "stdout",
          "output_type": "stream",
          "text": [
            "Training on dataset...\n",
            "Epoch [1/5], Step [100/600], Loss: 1.1386\n",
            "Epoch [1/5], Step [200/600], Loss: 0.9065\n",
            "Epoch [1/5], Step [300/600], Loss: 0.8668\n",
            "Epoch [1/5], Step [400/600], Loss: 0.7358\n",
            "Epoch [1/5], Step [500/600], Loss: 0.8562\n",
            "Epoch [1/5], Step [600/600], Loss: 0.9607\n",
            "Epoch [2/5], Step [100/600], Loss: 0.7292\n",
            "Epoch [2/5], Step [200/600], Loss: 0.6688\n",
            "Epoch [2/5], Step [300/600], Loss: 0.9678\n",
            "Epoch [2/5], Step [400/600], Loss: 0.6575\n",
            "Epoch [2/5], Step [500/600], Loss: 0.6718\n",
            "Epoch [2/5], Step [600/600], Loss: 0.7351\n",
            "Epoch [3/5], Step [100/600], Loss: 0.5921\n",
            "Epoch [3/5], Step [200/600], Loss: 0.6971\n",
            "Epoch [3/5], Step [300/600], Loss: 0.7504\n",
            "Epoch [3/5], Step [400/600], Loss: 0.6787\n",
            "Epoch [3/5], Step [500/600], Loss: 0.6726\n",
            "Epoch [3/5], Step [600/600], Loss: 0.6571\n",
            "Epoch [4/5], Step [100/600], Loss: 0.7372\n",
            "Epoch [4/5], Step [200/600], Loss: 0.7409\n",
            "Epoch [4/5], Step [300/600], Loss: 0.5651\n",
            "Epoch [4/5], Step [400/600], Loss: 0.6706\n",
            "Epoch [4/5], Step [500/600], Loss: 0.5150\n",
            "Epoch [4/5], Step [600/600], Loss: 0.5825\n",
            "Epoch [5/5], Step [100/600], Loss: 0.5302\n",
            "Epoch [5/5], Step [200/600], Loss: 0.5841\n",
            "Epoch [5/5], Step [300/600], Loss: 0.5017\n",
            "Epoch [5/5], Step [400/600], Loss: 0.7618\n",
            "Epoch [5/5], Step [500/600], Loss: 0.6171\n",
            "Epoch [5/5], Step [600/600], Loss: 0.5402\n",
            "\n",
            "Test accuracy on dataset:\n",
            "Test Accuracy: 77.67%\n",
            "Thời gian chạy: 10.631502866744995 giây\n"
          ]
        }
      ],
      "source": [
        "run = run_model_feature_two_hidden_size(100, 100, fashion_mnist_train_data, fashion_mnist_test_data, True)"
      ]
    },
    {
      "cell_type": "code",
      "execution_count": null,
      "metadata": {
        "colab": {
          "base_uri": "https://localhost:8080/"
        },
        "id": "8785gQ1KcQj7",
        "outputId": "8875c46d-33fb-44b3-987d-083444442575"
      },
      "outputs": [
        {
          "name": "stdout",
          "output_type": "stream",
          "text": [
            "Training on dataset...\n",
            "Epoch [1/5], Step [100/600], Loss: 1.1552\n",
            "Epoch [1/5], Step [200/600], Loss: 0.6703\n",
            "Epoch [1/5], Step [300/600], Loss: 0.9218\n",
            "Epoch [1/5], Step [400/600], Loss: 0.7001\n",
            "Epoch [1/5], Step [500/600], Loss: 0.6739\n",
            "Epoch [1/5], Step [600/600], Loss: 0.6864\n",
            "Epoch [2/5], Step [100/600], Loss: 0.6712\n",
            "Epoch [2/5], Step [200/600], Loss: 0.6094\n",
            "Epoch [2/5], Step [300/600], Loss: 0.6935\n",
            "Epoch [2/5], Step [400/600], Loss: 0.4914\n",
            "Epoch [2/5], Step [500/600], Loss: 0.6189\n",
            "Epoch [2/5], Step [600/600], Loss: 0.5408\n",
            "Epoch [3/5], Step [100/600], Loss: 0.7563\n",
            "Epoch [3/5], Step [200/600], Loss: 0.5482\n",
            "Epoch [3/5], Step [300/600], Loss: 0.6462\n",
            "Epoch [3/5], Step [400/600], Loss: 0.5997\n",
            "Epoch [3/5], Step [500/600], Loss: 0.4312\n",
            "Epoch [3/5], Step [600/600], Loss: 0.5974\n",
            "Epoch [4/5], Step [100/600], Loss: 0.5825\n",
            "Epoch [4/5], Step [200/600], Loss: 0.6710\n",
            "Epoch [4/5], Step [300/600], Loss: 0.5942\n",
            "Epoch [4/5], Step [400/600], Loss: 0.6283\n",
            "Epoch [4/5], Step [500/600], Loss: 0.4490\n",
            "Epoch [4/5], Step [600/600], Loss: 0.6347\n",
            "Epoch [5/5], Step [100/600], Loss: 0.4651\n",
            "Epoch [5/5], Step [200/600], Loss: 0.5381\n",
            "Epoch [5/5], Step [300/600], Loss: 0.6010\n",
            "Epoch [5/5], Step [400/600], Loss: 0.5448\n",
            "Epoch [5/5], Step [500/600], Loss: 0.4670\n",
            "Epoch [5/5], Step [600/600], Loss: 0.7017\n",
            "\n",
            "Test accuracy on dataset:\n",
            "Test Accuracy: 79.47%\n",
            "Thời gian chạy: 13.535899639129639 giây\n"
          ]
        }
      ],
      "source": [
        "run = run_model_feature_two_hidden_size(100, 500, fashion_mnist_train_data, fashion_mnist_test_data, True)"
      ]
    },
    {
      "cell_type": "code",
      "execution_count": null,
      "metadata": {
        "colab": {
          "base_uri": "https://localhost:8080/"
        },
        "id": "-JQQMnYTcR_g",
        "outputId": "ec0d503b-b9a3-4079-bcf9-bef1c85fa431"
      },
      "outputs": [
        {
          "name": "stdout",
          "output_type": "stream",
          "text": [
            "Training on dataset...\n",
            "Epoch [1/5], Step [100/600], Loss: 0.9229\n",
            "Epoch [1/5], Step [200/600], Loss: 0.7435\n",
            "Epoch [1/5], Step [300/600], Loss: 0.7489\n",
            "Epoch [1/5], Step [400/600], Loss: 0.7692\n",
            "Epoch [1/5], Step [500/600], Loss: 0.7075\n",
            "Epoch [1/5], Step [600/600], Loss: 0.5527\n",
            "Epoch [2/5], Step [100/600], Loss: 0.7181\n",
            "Epoch [2/5], Step [200/600], Loss: 0.6311\n",
            "Epoch [2/5], Step [300/600], Loss: 0.5267\n",
            "Epoch [2/5], Step [400/600], Loss: 0.7100\n",
            "Epoch [2/5], Step [500/600], Loss: 0.4505\n",
            "Epoch [2/5], Step [600/600], Loss: 0.6127\n",
            "Epoch [3/5], Step [100/600], Loss: 0.5230\n",
            "Epoch [3/5], Step [200/600], Loss: 0.6224\n",
            "Epoch [3/5], Step [300/600], Loss: 0.6146\n",
            "Epoch [3/5], Step [400/600], Loss: 0.5277\n",
            "Epoch [3/5], Step [500/600], Loss: 0.3951\n",
            "Epoch [3/5], Step [600/600], Loss: 0.4110\n",
            "Epoch [4/5], Step [100/600], Loss: 0.7721\n",
            "Epoch [4/5], Step [200/600], Loss: 0.5936\n",
            "Epoch [4/5], Step [300/600], Loss: 0.7232\n",
            "Epoch [4/5], Step [400/600], Loss: 0.5426\n",
            "Epoch [4/5], Step [500/600], Loss: 0.3887\n",
            "Epoch [4/5], Step [600/600], Loss: 0.6140\n",
            "Epoch [5/5], Step [100/600], Loss: 0.4543\n",
            "Epoch [5/5], Step [200/600], Loss: 0.5163\n",
            "Epoch [5/5], Step [300/600], Loss: 0.7466\n",
            "Epoch [5/5], Step [400/600], Loss: 0.5266\n",
            "Epoch [5/5], Step [500/600], Loss: 0.5328\n",
            "Epoch [5/5], Step [600/600], Loss: 0.4095\n",
            "\n",
            "Test accuracy on dataset:\n",
            "Test Accuracy: 79.65%\n",
            "Thời gian chạy: 16.274954795837402 giây\n"
          ]
        }
      ],
      "source": [
        "run = run_model_feature_two_hidden_size(100, 700, fashion_mnist_train_data, fashion_mnist_test_data, True)"
      ]
    },
    {
      "cell_type": "code",
      "execution_count": null,
      "metadata": {
        "colab": {
          "base_uri": "https://localhost:8080/"
        },
        "id": "aiZDE8uYcTTK",
        "outputId": "42e2ddfe-673d-490b-955b-ac2bd6f9ad1d"
      },
      "outputs": [
        {
          "name": "stdout",
          "output_type": "stream",
          "text": [
            "Training on dataset...\n",
            "Epoch [1/5], Step [100/600], Loss: 0.9331\n",
            "Epoch [1/5], Step [200/600], Loss: 0.8915\n",
            "Epoch [1/5], Step [300/600], Loss: 0.7870\n",
            "Epoch [1/5], Step [400/600], Loss: 0.4414\n",
            "Epoch [1/5], Step [500/600], Loss: 0.7120\n",
            "Epoch [1/5], Step [600/600], Loss: 0.6934\n",
            "Epoch [2/5], Step [100/600], Loss: 0.6513\n",
            "Epoch [2/5], Step [200/600], Loss: 0.5642\n",
            "Epoch [2/5], Step [300/600], Loss: 0.6640\n",
            "Epoch [2/5], Step [400/600], Loss: 0.6009\n",
            "Epoch [2/5], Step [500/600], Loss: 0.6057\n",
            "Epoch [2/5], Step [600/600], Loss: 0.5411\n",
            "Epoch [3/5], Step [100/600], Loss: 0.5823\n",
            "Epoch [3/5], Step [200/600], Loss: 0.5926\n",
            "Epoch [3/5], Step [300/600], Loss: 0.6007\n",
            "Epoch [3/5], Step [400/600], Loss: 0.6623\n",
            "Epoch [3/5], Step [500/600], Loss: 0.5392\n",
            "Epoch [3/5], Step [600/600], Loss: 0.7429\n",
            "Epoch [4/5], Step [100/600], Loss: 0.6958\n",
            "Epoch [4/5], Step [200/600], Loss: 0.5844\n",
            "Epoch [4/5], Step [300/600], Loss: 0.6032\n",
            "Epoch [4/5], Step [400/600], Loss: 0.5714\n",
            "Epoch [4/5], Step [500/600], Loss: 0.6580\n",
            "Epoch [4/5], Step [600/600], Loss: 0.6694\n",
            "Epoch [5/5], Step [100/600], Loss: 0.5153\n",
            "Epoch [5/5], Step [200/600], Loss: 0.5457\n",
            "Epoch [5/5], Step [300/600], Loss: 0.4694\n",
            "Epoch [5/5], Step [400/600], Loss: 0.6614\n",
            "Epoch [5/5], Step [500/600], Loss: 0.5907\n",
            "Epoch [5/5], Step [600/600], Loss: 0.4503\n",
            "\n",
            "Test accuracy on dataset:\n",
            "Test Accuracy: 79.36%\n",
            "Thời gian chạy: 16.118868589401245 giây\n"
          ]
        }
      ],
      "source": [
        "run = run_model_feature_two_hidden_size(500, 100, fashion_mnist_train_data, fashion_mnist_test_data, True)"
      ]
    },
    {
      "cell_type": "code",
      "execution_count": null,
      "metadata": {
        "colab": {
          "base_uri": "https://localhost:8080/"
        },
        "id": "u_mYiOIScU0p",
        "outputId": "525d46fe-7a21-4fc5-d464-4c835eae3a08"
      },
      "outputs": [
        {
          "name": "stdout",
          "output_type": "stream",
          "text": [
            "Training on dataset...\n",
            "Epoch [1/5], Step [100/600], Loss: 0.8425\n",
            "Epoch [1/5], Step [200/600], Loss: 0.8045\n",
            "Epoch [1/5], Step [300/600], Loss: 0.7395\n",
            "Epoch [1/5], Step [400/600], Loss: 0.6405\n",
            "Epoch [1/5], Step [500/600], Loss: 0.5755\n",
            "Epoch [1/5], Step [600/600], Loss: 0.6018\n",
            "Epoch [2/5], Step [100/600], Loss: 0.5480\n",
            "Epoch [2/5], Step [200/600], Loss: 0.5836\n",
            "Epoch [2/5], Step [300/600], Loss: 0.6867\n",
            "Epoch [2/5], Step [400/600], Loss: 0.5570\n",
            "Epoch [2/5], Step [500/600], Loss: 0.4792\n",
            "Epoch [2/5], Step [600/600], Loss: 0.5716\n",
            "Epoch [3/5], Step [100/600], Loss: 0.4276\n",
            "Epoch [3/5], Step [200/600], Loss: 0.3960\n",
            "Epoch [3/5], Step [300/600], Loss: 0.5113\n",
            "Epoch [3/5], Step [400/600], Loss: 0.4834\n",
            "Epoch [3/5], Step [500/600], Loss: 0.6397\n",
            "Epoch [3/5], Step [600/600], Loss: 0.5682\n",
            "Epoch [4/5], Step [100/600], Loss: 0.4524\n",
            "Epoch [4/5], Step [200/600], Loss: 0.4826\n",
            "Epoch [4/5], Step [300/600], Loss: 0.5325\n",
            "Epoch [4/5], Step [400/600], Loss: 0.4461\n",
            "Epoch [4/5], Step [500/600], Loss: 0.6761\n",
            "Epoch [4/5], Step [600/600], Loss: 0.4814\n",
            "Epoch [5/5], Step [100/600], Loss: 0.4940\n",
            "Epoch [5/5], Step [200/600], Loss: 0.5553\n",
            "Epoch [5/5], Step [300/600], Loss: 0.5549\n",
            "Epoch [5/5], Step [400/600], Loss: 0.3141\n",
            "Epoch [5/5], Step [500/600], Loss: 0.5053\n",
            "Epoch [5/5], Step [600/600], Loss: 0.5105\n",
            "\n",
            "Test accuracy on dataset:\n",
            "Test Accuracy: 79.97%\n",
            "Thời gian chạy: 34.949681758880615 giây\n"
          ]
        }
      ],
      "source": [
        "run = run_model_feature_two_hidden_size(500, 500, fashion_mnist_train_data, fashion_mnist_test_data, True)"
      ]
    },
    {
      "cell_type": "code",
      "execution_count": null,
      "metadata": {
        "colab": {
          "base_uri": "https://localhost:8080/"
        },
        "id": "1Arw9rJ1caOM",
        "outputId": "26c142ea-9aac-4ca3-867f-b4b60ef6a8bb"
      },
      "outputs": [
        {
          "name": "stdout",
          "output_type": "stream",
          "text": [
            "Training on dataset...\n",
            "Epoch [1/5], Step [100/600], Loss: 0.8690\n",
            "Epoch [1/5], Step [200/600], Loss: 0.6108\n",
            "Epoch [1/5], Step [300/600], Loss: 0.5300\n",
            "Epoch [1/5], Step [400/600], Loss: 0.7885\n",
            "Epoch [1/5], Step [500/600], Loss: 0.5017\n",
            "Epoch [1/5], Step [600/600], Loss: 0.5933\n",
            "Epoch [2/5], Step [100/600], Loss: 0.6679\n",
            "Epoch [2/5], Step [200/600], Loss: 0.7227\n",
            "Epoch [2/5], Step [300/600], Loss: 0.7476\n",
            "Epoch [2/5], Step [400/600], Loss: 0.5000\n",
            "Epoch [2/5], Step [500/600], Loss: 0.5118\n",
            "Epoch [2/5], Step [600/600], Loss: 0.4888\n",
            "Epoch [3/5], Step [100/600], Loss: 0.5832\n",
            "Epoch [3/5], Step [200/600], Loss: 0.6142\n",
            "Epoch [3/5], Step [300/600], Loss: 0.3288\n",
            "Epoch [3/5], Step [400/600], Loss: 0.6777\n",
            "Epoch [3/5], Step [500/600], Loss: 0.4932\n",
            "Epoch [3/5], Step [600/600], Loss: 0.5388\n",
            "Epoch [4/5], Step [100/600], Loss: 0.5368\n",
            "Epoch [4/5], Step [200/600], Loss: 0.5569\n",
            "Epoch [4/5], Step [300/600], Loss: 0.4895\n",
            "Epoch [4/5], Step [400/600], Loss: 0.5386\n",
            "Epoch [4/5], Step [500/600], Loss: 0.5570\n",
            "Epoch [4/5], Step [600/600], Loss: 0.4176\n",
            "Epoch [5/5], Step [100/600], Loss: 0.5451\n",
            "Epoch [5/5], Step [200/600], Loss: 0.4384\n",
            "Epoch [5/5], Step [300/600], Loss: 0.7897\n",
            "Epoch [5/5], Step [400/600], Loss: 0.4656\n",
            "Epoch [5/5], Step [500/600], Loss: 0.4603\n",
            "Epoch [5/5], Step [600/600], Loss: 0.5692\n",
            "\n",
            "Test accuracy on dataset:\n",
            "Test Accuracy: 80.74%\n",
            "Thời gian chạy: 43.968783140182495 giây\n"
          ]
        }
      ],
      "source": [
        "run = run_model_feature_two_hidden_size(500, 700, fashion_mnist_train_data, fashion_mnist_test_data, True)"
      ]
    },
    {
      "cell_type": "code",
      "execution_count": null,
      "metadata": {
        "colab": {
          "base_uri": "https://localhost:8080/"
        },
        "id": "dFiz_UAVcb_1",
        "outputId": "67406f8d-e6c5-43ad-b665-9ce99c7851c1"
      },
      "outputs": [
        {
          "name": "stdout",
          "output_type": "stream",
          "text": [
            "Training on dataset...\n",
            "Epoch [1/5], Step [100/600], Loss: 0.8667\n",
            "Epoch [1/5], Step [200/600], Loss: 0.7164\n",
            "Epoch [1/5], Step [300/600], Loss: 0.6273\n",
            "Epoch [1/5], Step [400/600], Loss: 0.7224\n",
            "Epoch [1/5], Step [500/600], Loss: 1.0187\n",
            "Epoch [1/5], Step [600/600], Loss: 0.5848\n",
            "Epoch [2/5], Step [100/600], Loss: 0.7186\n",
            "Epoch [2/5], Step [200/600], Loss: 0.5853\n",
            "Epoch [2/5], Step [300/600], Loss: 0.7229\n",
            "Epoch [2/5], Step [400/600], Loss: 0.4827\n",
            "Epoch [2/5], Step [500/600], Loss: 0.4882\n",
            "Epoch [2/5], Step [600/600], Loss: 0.4837\n",
            "Epoch [3/5], Step [100/600], Loss: 0.6650\n",
            "Epoch [3/5], Step [200/600], Loss: 0.5831\n",
            "Epoch [3/5], Step [300/600], Loss: 0.5354\n",
            "Epoch [3/5], Step [400/600], Loss: 0.7125\n",
            "Epoch [3/5], Step [500/600], Loss: 0.6250\n",
            "Epoch [3/5], Step [600/600], Loss: 0.4817\n",
            "Epoch [4/5], Step [100/600], Loss: 0.4826\n",
            "Epoch [4/5], Step [200/600], Loss: 0.5024\n",
            "Epoch [4/5], Step [300/600], Loss: 0.4909\n",
            "Epoch [4/5], Step [400/600], Loss: 0.6297\n",
            "Epoch [4/5], Step [500/600], Loss: 0.4347\n",
            "Epoch [4/5], Step [600/600], Loss: 0.4657\n",
            "Epoch [5/5], Step [100/600], Loss: 0.5155\n",
            "Epoch [5/5], Step [200/600], Loss: 0.4729\n",
            "Epoch [5/5], Step [300/600], Loss: 0.5182\n",
            "Epoch [5/5], Step [400/600], Loss: 0.6447\n",
            "Epoch [5/5], Step [500/600], Loss: 0.6622\n",
            "Epoch [5/5], Step [600/600], Loss: 0.4239\n",
            "\n",
            "Test accuracy on dataset:\n",
            "Test Accuracy: 79.86%\n",
            "Thời gian chạy: 18.218584299087524 giây\n"
          ]
        }
      ],
      "source": [
        "run = run_model_feature_two_hidden_size(700, 100, fashion_mnist_train_data, fashion_mnist_test_data, True)"
      ]
    },
    {
      "cell_type": "code",
      "execution_count": null,
      "metadata": {
        "colab": {
          "base_uri": "https://localhost:8080/"
        },
        "id": "bur8mm8IcduK",
        "outputId": "10f40706-3f4b-44c2-d9be-fbfe195cea09"
      },
      "outputs": [
        {
          "name": "stdout",
          "output_type": "stream",
          "text": [
            "Training on dataset...\n",
            "Epoch [1/5], Step [100/600], Loss: 0.8048\n",
            "Epoch [1/5], Step [200/600], Loss: 0.6949\n",
            "Epoch [1/5], Step [300/600], Loss: 0.7533\n",
            "Epoch [1/5], Step [400/600], Loss: 0.7716\n",
            "Epoch [1/5], Step [500/600], Loss: 0.7043\n",
            "Epoch [1/5], Step [600/600], Loss: 0.7007\n",
            "Epoch [2/5], Step [100/600], Loss: 0.6977\n",
            "Epoch [2/5], Step [200/600], Loss: 0.5395\n",
            "Epoch [2/5], Step [300/600], Loss: 0.5797\n",
            "Epoch [2/5], Step [400/600], Loss: 0.5878\n",
            "Epoch [2/5], Step [500/600], Loss: 0.4764\n",
            "Epoch [2/5], Step [600/600], Loss: 0.5538\n",
            "Epoch [3/5], Step [100/600], Loss: 0.4543\n",
            "Epoch [3/5], Step [200/600], Loss: 0.5100\n",
            "Epoch [3/5], Step [300/600], Loss: 0.6335\n",
            "Epoch [3/5], Step [400/600], Loss: 0.4194\n",
            "Epoch [3/5], Step [500/600], Loss: 0.5051\n",
            "Epoch [3/5], Step [600/600], Loss: 0.6505\n",
            "Epoch [4/5], Step [100/600], Loss: 0.4765\n",
            "Epoch [4/5], Step [200/600], Loss: 0.4604\n",
            "Epoch [4/5], Step [300/600], Loss: 0.4268\n",
            "Epoch [4/5], Step [400/600], Loss: 0.5522\n",
            "Epoch [4/5], Step [500/600], Loss: 0.5352\n",
            "Epoch [4/5], Step [600/600], Loss: 0.4406\n",
            "Epoch [5/5], Step [100/600], Loss: 0.4967\n",
            "Epoch [5/5], Step [200/600], Loss: 0.6784\n",
            "Epoch [5/5], Step [300/600], Loss: 0.5841\n",
            "Epoch [5/5], Step [400/600], Loss: 0.4647\n",
            "Epoch [5/5], Step [500/600], Loss: 0.5036\n",
            "Epoch [5/5], Step [600/600], Loss: 0.4132\n",
            "\n",
            "Test accuracy on dataset:\n",
            "Test Accuracy: 80.68%\n",
            "Thời gian chạy: 45.314974308013916 giây\n"
          ]
        }
      ],
      "source": [
        "run = run_model_feature_two_hidden_size(700, 500, fashion_mnist_train_data, fashion_mnist_test_data, True)"
      ]
    },
    {
      "cell_type": "code",
      "execution_count": null,
      "metadata": {
        "colab": {
          "base_uri": "https://localhost:8080/"
        },
        "id": "kQ43e2YKcfxj",
        "outputId": "be4b5083-557c-4adc-b551-2bdc116288a6"
      },
      "outputs": [
        {
          "name": "stdout",
          "output_type": "stream",
          "text": [
            "Training on dataset...\n",
            "Epoch [1/5], Step [100/600], Loss: 0.9081\n",
            "Epoch [1/5], Step [200/600], Loss: 0.8301\n",
            "Epoch [1/5], Step [300/600], Loss: 0.7582\n",
            "Epoch [1/5], Step [400/600], Loss: 0.5810\n",
            "Epoch [1/5], Step [500/600], Loss: 0.5200\n",
            "Epoch [1/5], Step [600/600], Loss: 0.5337\n",
            "Epoch [2/5], Step [100/600], Loss: 0.6206\n",
            "Epoch [2/5], Step [200/600], Loss: 0.5225\n",
            "Epoch [2/5], Step [300/600], Loss: 0.5765\n",
            "Epoch [2/5], Step [400/600], Loss: 0.5948\n",
            "Epoch [2/5], Step [500/600], Loss: 0.4712\n",
            "Epoch [2/5], Step [600/600], Loss: 0.6161\n",
            "Epoch [3/5], Step [100/600], Loss: 0.7375\n",
            "Epoch [3/5], Step [200/600], Loss: 0.5464\n",
            "Epoch [3/5], Step [300/600], Loss: 0.5589\n",
            "Epoch [3/5], Step [400/600], Loss: 0.5311\n",
            "Epoch [3/5], Step [500/600], Loss: 0.6740\n",
            "Epoch [3/5], Step [600/600], Loss: 0.6716\n",
            "Epoch [4/5], Step [100/600], Loss: 0.4511\n",
            "Epoch [4/5], Step [200/600], Loss: 0.6202\n",
            "Epoch [4/5], Step [300/600], Loss: 0.5092\n",
            "Epoch [4/5], Step [400/600], Loss: 0.7085\n",
            "Epoch [4/5], Step [500/600], Loss: 0.7154\n",
            "Epoch [4/5], Step [600/600], Loss: 0.6292\n",
            "Epoch [5/5], Step [100/600], Loss: 0.4102\n",
            "Epoch [5/5], Step [200/600], Loss: 0.4120\n",
            "Epoch [5/5], Step [300/600], Loss: 0.4289\n",
            "Epoch [5/5], Step [400/600], Loss: 0.6299\n",
            "Epoch [5/5], Step [500/600], Loss: 0.4832\n",
            "Epoch [5/5], Step [600/600], Loss: 0.4720\n",
            "\n",
            "Test accuracy on dataset:\n",
            "Test Accuracy: 80.20%\n",
            "Thời gian chạy: 58.673667192459106 giây\n"
          ]
        }
      ],
      "source": [
        "run = run_model_feature_two_hidden_size(700, 700, fashion_mnist_train_data, fashion_mnist_test_data, True)"
      ]
    },
    {
      "cell_type": "code",
      "execution_count": null,
      "metadata": {
        "colab": {
          "base_uri": "https://localhost:8080/"
        },
        "id": "sHHbK6_FcqGW",
        "outputId": "afb88e3e-eb94-4752-f8af-e38834f1a6d5"
      },
      "outputs": [
        {
          "name": "stdout",
          "output_type": "stream",
          "text": [
            "Training on dataset...\n",
            "Epoch [1/5], Step [100/600], Loss: 1.9366\n",
            "Epoch [1/5], Step [200/600], Loss: 1.8149\n",
            "Epoch [1/5], Step [300/600], Loss: 1.6375\n",
            "Epoch [1/5], Step [400/600], Loss: 1.6728\n",
            "Epoch [1/5], Step [500/600], Loss: 1.4309\n",
            "Epoch [1/5], Step [600/600], Loss: 1.5043\n",
            "Epoch [2/5], Step [100/600], Loss: 1.5261\n",
            "Epoch [2/5], Step [200/600], Loss: 1.5602\n",
            "Epoch [2/5], Step [300/600], Loss: 1.4849\n",
            "Epoch [2/5], Step [400/600], Loss: 1.4576\n",
            "Epoch [2/5], Step [500/600], Loss: 1.4019\n",
            "Epoch [2/5], Step [600/600], Loss: 1.3089\n",
            "Epoch [3/5], Step [100/600], Loss: 1.4515\n",
            "Epoch [3/5], Step [200/600], Loss: 1.4860\n",
            "Epoch [3/5], Step [300/600], Loss: 1.4182\n",
            "Epoch [3/5], Step [400/600], Loss: 1.4279\n",
            "Epoch [3/5], Step [500/600], Loss: 1.3960\n",
            "Epoch [3/5], Step [600/600], Loss: 1.4664\n",
            "Epoch [4/5], Step [100/600], Loss: 1.4289\n",
            "Epoch [4/5], Step [200/600], Loss: 1.3946\n",
            "Epoch [4/5], Step [300/600], Loss: 1.3792\n",
            "Epoch [4/5], Step [400/600], Loss: 1.3025\n",
            "Epoch [4/5], Step [500/600], Loss: 1.4929\n",
            "Epoch [4/5], Step [600/600], Loss: 1.2778\n",
            "Epoch [5/5], Step [100/600], Loss: 1.2141\n",
            "Epoch [5/5], Step [200/600], Loss: 1.3473\n",
            "Epoch [5/5], Step [300/600], Loss: 1.4017\n",
            "Epoch [5/5], Step [400/600], Loss: 1.3405\n",
            "Epoch [5/5], Step [500/600], Loss: 1.3907\n",
            "Epoch [5/5], Step [600/600], Loss: 1.4057\n",
            "\n",
            "Test accuracy on dataset:\n",
            "Test Accuracy: 51.55%\n",
            "Thời gian chạy: 19.341190814971924 giây\n"
          ]
        }
      ],
      "source": [
        "run = run_model_feature_one_hidden_size(700, fashion_mnist_train_data, fashion_mnist_test_data, False)"
      ]
    },
    {
      "cell_type": "code",
      "execution_count": 10,
      "metadata": {
        "colab": {
          "base_uri": "https://localhost:8080/"
        },
        "id": "KtMLCFbEcvU9",
        "outputId": "17f303be-44b3-4e8a-f8d3-49f17e731d8f"
      },
      "outputs": [
        {
          "name": "stdout",
          "output_type": "stream",
          "text": [
            "Training on dataset...\n",
            "Epoch [1/5], Step [100/600], Loss: 1.8023\n",
            "Epoch [1/5], Step [200/600], Loss: 1.6402\n",
            "Epoch [1/5], Step [300/600], Loss: 1.7849\n",
            "Epoch [1/5], Step [400/600], Loss: 1.4629\n",
            "Epoch [1/5], Step [500/600], Loss: 1.6073\n",
            "Epoch [1/5], Step [600/600], Loss: 1.4274\n",
            "Epoch [2/5], Step [100/600], Loss: 1.4493\n",
            "Epoch [2/5], Step [200/600], Loss: 1.5048\n",
            "Epoch [2/5], Step [300/600], Loss: 1.3485\n",
            "Epoch [2/5], Step [400/600], Loss: 1.3511\n",
            "Epoch [2/5], Step [500/600], Loss: 1.4362\n",
            "Epoch [2/5], Step [600/600], Loss: 1.2342\n",
            "Epoch [3/5], Step [100/600], Loss: 1.1857\n",
            "Epoch [3/5], Step [200/600], Loss: 1.3532\n",
            "Epoch [3/5], Step [300/600], Loss: 1.4636\n",
            "Epoch [3/5], Step [400/600], Loss: 1.3756\n",
            "Epoch [3/5], Step [500/600], Loss: 1.4899\n",
            "Epoch [3/5], Step [600/600], Loss: 1.2601\n",
            "Epoch [4/5], Step [100/600], Loss: 1.3493\n",
            "Epoch [4/5], Step [200/600], Loss: 1.0235\n",
            "Epoch [4/5], Step [300/600], Loss: 1.1120\n",
            "Epoch [4/5], Step [400/600], Loss: 1.2592\n",
            "Epoch [4/5], Step [500/600], Loss: 1.3288\n",
            "Epoch [4/5], Step [600/600], Loss: 1.1636\n",
            "Epoch [5/5], Step [100/600], Loss: 1.3258\n",
            "Epoch [5/5], Step [200/600], Loss: 1.3799\n",
            "Epoch [5/5], Step [300/600], Loss: 1.3963\n",
            "Epoch [5/5], Step [400/600], Loss: 1.0075\n",
            "Epoch [5/5], Step [500/600], Loss: 1.5609\n",
            "Epoch [5/5], Step [600/600], Loss: 1.2859\n",
            "\n",
            "Test accuracy on dataset:\n",
            "Test Accuracy: 53.18%\n",
            "Thời gian chạy: 49.85340142250061 giây\n"
          ]
        }
      ],
      "source": [
        "run = run_model_feature_two_hidden_size(700, 500, fashion_mnist_train_data, fashion_mnist_test_data, False)"
      ]
    },
    {
      "cell_type": "markdown",
      "metadata": {
        "id": "7PGSwNK4sxU9"
      },
      "source": [
        "Nhận xét:  \n",
        "- Khi tăng số lớp ẩn lên thì khi chọn tổ hợp lớp ẩn tốt nhất thì nó có cải thiện độ chính xác của mô hình, dù là so sánh với dùng một lớp ẩn có 700 nơ-ron, nhìn chung thì độ chính xác sẽ có tăng, đồng thời gian train cũng có tăng.\n",
        "- Khi chúng ta rút đặc trưng thì độ chính xác ở 2 lớp ẩn cũng cao hơn so với một lớp ẩn nhưng khi so kết quả tốt nhất của 2 lớp ẩn có rút đặc trưng với 2 lớp ẩn không rút đặc trưng thì hai lớp ẩn không rút đặc trưng vẫn tốt hơn một ít những không quá lớn cụ thể là 97.94 ở không rút đặc trưng với tổ hợp (500,500) và có rút vẫn (500,500) là 97,62. Fashion mnist cũng tương tự không rút đặc trưng ở (700,100) là 88,29, còn có rút ở tổ hợp (500,700) là 80,74. Nên việc rút đặc trưng lợi thể vẫn là tốc độ train nhanh, mặc dù ở mnist thì không nhiều nhưng ở Fashion mnist thì độ chính xác có hơi lệch nhiều.\n",
        "- Hai lớp ẩn thì khi ta dùng Histogram nó vẫn cho kết quả không khả quan hơn là bao.\n",
        "- Tóm lại dựa vào các kết quả chạy ở trên việc sử dụng mạng nơ-ron sâu sẽ cho kết quả tốt hơn mạng nơ-ron nông.\n",
        "- Rút trích dặc trưng dù kết hợp với mạng nơ-ron sâu vẫn không thể đánh bại việc dùng trực tiếp với mạng nơ-ron sâu nên việc rút trích đặc trưng lợi thế lớn nhất của nó vẫn là thời gian train."
      ]
    }
  ],
  "metadata": {
    "colab": {
      "provenance": []
    },
    "kernelspec": {
      "display_name": "Python 3",
      "name": "python3"
    },
    "language_info": {
      "name": "python"
    }
  },
  "nbformat": 4,
  "nbformat_minor": 0
}
